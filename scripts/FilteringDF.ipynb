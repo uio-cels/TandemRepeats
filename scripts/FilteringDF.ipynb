{
 "cells": [
  {
   "cell_type": "code",
   "execution_count": 30,
   "metadata": {
    "collapsed": true
   },
   "outputs": [],
   "source": [
    "import pandas as pd\n",
    "from collections import Counter"
   ]
  },
  {
   "cell_type": "markdown",
   "metadata": {},
   "source": [
    "Loading DataFrame"
   ]
  },
  {
   "cell_type": "code",
   "execution_count": 2,
   "metadata": {
    "collapsed": true
   },
   "outputs": [],
   "source": [
    "DF_FILE_NAME = '../data/STR_Arabidopsis.dataframe.annotated.tsv'\n",
    "header = ['GENE', 'START', 'END', 'ACCESSION', 'DEPTH', 'UNIT', 'UNIT_N', 'REF', 'ALTVAR1', 'LEN_ALTVAR1', 'ALTVAR2', 'LEN_ALTVAR2']\n",
    "\n",
    "STRs = pd.read_csv(DF_FILE_NAME, sep = '\\t', na_filter = False,\n",
    "                     header = None, index_col = None, \n",
    "                     names = header)\n",
    "\n",
    "STRs = STRs.reset_index().rename(columns = {'level_0' : 'CHR'}).drop(['level_1'], axis = 1)"
   ]
  },
  {
   "cell_type": "markdown",
   "metadata": {},
   "source": [
    "Loading in metadata from SRA (https://www.ncbi.nlm.nih.gov/Traces/study/?acc=SRP056687) and table at http://1001genomes.org/accessions.html"
   ]
  },
  {
   "cell_type": "code",
   "execution_count": 3,
   "metadata": {
    "collapsed": true
   },
   "outputs": [],
   "source": [
    "AccList = pd.read_csv(\"../data/AccListFrom1001Arabidopsis.csv\")\n",
    "AccList.rename(columns={'tg_ecotypeid': 'Ecotype'}, inplace=True)\n",
    "\n",
    "SraRunTable = pd.read_csv(\"../data/SraRunTable.txt\", sep = \"\\t\")\n",
    "SraRunTable.rename(columns={'ecotype_s': 'Ecotype'}, inplace=True)\n",
    "\n",
    "AccListSraRunTable = pd.merge(AccList, SraRunTable)"
   ]
  },
  {
   "cell_type": "markdown",
   "metadata": {},
   "source": [
    "Adding 'CHR_START' column as all positions are not unique"
   ]
  },
  {
   "cell_type": "code",
   "execution_count": 4,
   "metadata": {
    "collapsed": true
   },
   "outputs": [],
   "source": [
    "start_chrom = []\n",
    "for i in STRs[['START', 'CHR']].drop_duplicates().itertuples():\n",
    "    start_chrom.append(i.CHR + '_' + str(i.START))\n",
    "    \n",
    "frame = STRs[['START', 'CHR']].drop_duplicates()\n",
    "frame['CHR_START'] = start_chrom\n",
    "\n",
    "STRs = pd.merge(frame, STRs)"
   ]
  },
  {
   "cell_type": "markdown",
   "metadata": {},
   "source": [
    "Filtering for depth"
   ]
  },
  {
   "cell_type": "code",
   "execution_count": 34,
   "metadata": {
    "collapsed": true
   },
   "outputs": [],
   "source": [
    "STRs_depth5 = STRs[STRs['DEPTH']>=5]"
   ]
  },
  {
   "cell_type": "markdown",
   "metadata": {},
   "source": [
    "How many do we lose?"
   ]
  },
  {
   "cell_type": "code",
   "execution_count": 6,
   "metadata": {},
   "outputs": [
    {
     "name": "stdout",
     "output_type": "stream",
     "text": [
      "Number of STRs with no depth filtering: 19160\n",
      "Number of STRs with depth > 5: 18835\n",
      "Loci not analyzed further: 325\n"
     ]
    }
   ],
   "source": [
    "n_all = len(set(STRs.CHR_START))\n",
    "n_depth5 = len(set(STRs_depth5.CHR_START))\n",
    "print \"Number of STRs with no depth filtering:\", n_all\n",
    "print \"Number of STRs with depth > 5:\", n_depth5\n",
    "print \"Loci not analyzed further:\", n_all - n_depth5"
   ]
  },
  {
   "cell_type": "markdown",
   "metadata": {},
   "source": [
    "Defining STR dosage as the length of both alleles of the STR loci"
   ]
  },
  {
   "cell_type": "code",
   "execution_count": 35,
   "metadata": {},
   "outputs": [
    {
     "name": "stderr",
     "output_type": "stream",
     "text": [
      "/anaconda/lib/python2.7/site-packages/ipykernel/__main__.py:1: SettingWithCopyWarning: \n",
      "A value is trying to be set on a copy of a slice from a DataFrame.\n",
      "Try using .loc[row_indexer,col_indexer] = value instead\n",
      "\n",
      "See the caveats in the documentation: http://pandas.pydata.org/pandas-docs/stable/indexing.html#indexing-view-versus-copy\n",
      "  if __name__ == '__main__':\n"
     ]
    }
   ],
   "source": [
    "STRs_depth5['STR_DOSAGE'] = STRs_depth5.LEN_ALTVAR1 + STRs_depth5.LEN_ALTVAR2"
   ]
  },
  {
   "cell_type": "markdown",
   "metadata": {},
   "source": [
    "Writing to disk"
   ]
  },
  {
   "cell_type": "code",
   "execution_count": 51,
   "metadata": {
    "collapsed": true
   },
   "outputs": [],
   "source": [
    "STRs_depth5.to_csv('../data/STRs_depth5.tsv', sep = '\\t')"
   ]
  },
  {
   "cell_type": "markdown",
   "metadata": {
    "collapsed": true
   },
   "source": [
    "Filtering for major allele frequency <= 0.9"
   ]
  },
  {
   "cell_type": "code",
   "execution_count": 48,
   "metadata": {},
   "outputs": [],
   "source": [
    "grouped = STRs_depth5.groupby('CHR_START')\n",
    "\n",
    "mafs = []\n",
    "passed = []\n",
    "for i in grouped:\n",
    "    data = Counter(i[1].LEN_ALTVAR1)\n",
    "    maf = max(data.values()) / float(sum(data.values()))\n",
    "    mafs.append(maf)\n",
    "    if maf <= 0.9:\n",
    "        passed.append(i[0])\n",
    "        \n",
    "STRs_depth5_chr_start_maf09 = STRs_depth5[STRs_depth5['CHR_START'].isin(passed)]"
   ]
  },
  {
   "cell_type": "code",
   "execution_count": 59,
   "metadata": {},
   "outputs": [
    {
     "name": "stdout",
     "output_type": "stream",
     "text": [
      "18835\n"
     ]
    }
   ],
   "source": [
    "print len(set(STRs_depth5.CHR_START))"
   ]
  },
  {
   "cell_type": "markdown",
   "metadata": {},
   "source": [
    "Frame with non-variable repeats by this measure"
   ]
  },
  {
   "cell_type": "code",
   "execution_count": 60,
   "metadata": {},
   "outputs": [],
   "source": [
    "STRs_depth5_chr_start_maf09_nv = STRs_depth5[~STRs_depth5['CHR_START'].isin(passed)]\n",
    "STRs_depth5_chr_start_maf09_nv.to_csv('../data/STRs_depth5_chr_start_maf09_nv.tsv', sep = '\\t', index=None)              "
   ]
  },
  {
   "cell_type": "markdown",
   "metadata": {},
   "source": [
    "Writing frame for all further analyses"
   ]
  },
  {
   "cell_type": "code",
   "execution_count": 65,
   "metadata": {
    "collapsed": true
   },
   "outputs": [],
   "source": [
    "STRs_depth5_chr_start_maf09.to_csv('../data/STRs_depth5_chr_start_maf09.tsv', sep = '\\t', index=None)"
   ]
  }
 ],
 "metadata": {
  "kernelspec": {
   "display_name": "Python [conda root]",
   "language": "python",
   "name": "conda-root-py"
  },
  "language_info": {
   "codemirror_mode": {
    "name": "ipython",
    "version": 2
   },
   "file_extension": ".py",
   "mimetype": "text/x-python",
   "name": "python",
   "nbconvert_exporter": "python",
   "pygments_lexer": "ipython2",
   "version": "2.7.13"
  }
 },
 "nbformat": 4,
 "nbformat_minor": 2
}

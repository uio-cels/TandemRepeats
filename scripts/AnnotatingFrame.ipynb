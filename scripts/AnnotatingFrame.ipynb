{
 "cells": [
  {
   "cell_type": "code",
   "execution_count": 1,
   "metadata": {
    "collapsed": true
   },
   "outputs": [],
   "source": [
    "import pandas as pd\n",
    "import pybedtools as pyb\n",
    "from pylab import *"
   ]
  },
  {
   "cell_type": "markdown",
   "metadata": {},
   "source": [
    "Loading frames"
   ]
  },
  {
   "cell_type": "code",
   "execution_count": 2,
   "metadata": {
    "collapsed": true
   },
   "outputs": [],
   "source": [
    "vSTRs = pd.read_table('../data/STRs_depth5_chr_start_maf09.tsv')\n",
    "nvSTRs = pd.read_table('../data/STRs_depth5_chr_start_maf09_nv.tsv')"
   ]
  },
  {
   "cell_type": "markdown",
   "metadata": {},
   "source": [
    "Function to make BED file from DataFrame"
   ]
  },
  {
   "cell_type": "code",
   "execution_count": 3,
   "metadata": {
    "collapsed": true
   },
   "outputs": [],
   "source": [
    "def make_bed_from_frame(filename, frame):\n",
    "    tab = '\\t'\n",
    "    newline = '\\n'\n",
    "\n",
    "    fh = open(filename, 'w')\n",
    "    for i in frame.itertuples():\n",
    "        fh.write(i.CHR + tab + str(i.START) + tab + str(i.END) + tab + str(i.CHR_START) + newline)\n",
    "    fh.close()"
   ]
  },
  {
   "cell_type": "markdown",
   "metadata": {},
   "source": [
    "Subsetting for making BED"
   ]
  },
  {
   "cell_type": "code",
   "execution_count": 4,
   "metadata": {
    "collapsed": true
   },
   "outputs": [],
   "source": [
    "v_sub_for_bed = vSTRs[['CHR', 'START', 'END', 'CHR_START']].drop_duplicates()\n",
    "nv_sub_for_bed = nvSTRs[['CHR', 'START', 'END', 'CHR_START']].drop_duplicates()"
   ]
  },
  {
   "cell_type": "markdown",
   "metadata": {},
   "source": [
    "Making BED"
   ]
  },
  {
   "cell_type": "code",
   "execution_count": 5,
   "metadata": {},
   "outputs": [],
   "source": [
    "make_bed_from_frame('../data/STRs_depth5_chr_start_maf09.bed', v_sub_for_bed)\n",
    "make_bed_from_frame('../data/STRs_depth5_chr_start_maf09_nv.bed', nv_sub_for_bed)"
   ]
  },
  {
   "cell_type": "markdown",
   "metadata": {},
   "source": [
    "Loading BED"
   ]
  },
  {
   "cell_type": "code",
   "execution_count": 6,
   "metadata": {},
   "outputs": [],
   "source": [
    "vSTR_bed = pyb.BedTool('../data/STRs_depth5_chr_start_maf09.bed')\n",
    "nvSTR_bed = pyb.BedTool('../data/STRs_depth5_chr_start_maf09_nv.bed')"
   ]
  },
  {
   "cell_type": "markdown",
   "metadata": {},
   "source": [
    "Loading GFF as BED, used awk to produce the file"
   ]
  },
  {
   "cell_type": "code",
   "execution_count": 7,
   "metadata": {
    "collapsed": true
   },
   "outputs": [],
   "source": [
    "GFF = pyb.BedTool('../data/TAIR10_GFF3_genes_with_strand.bed')"
   ]
  },
  {
   "cell_type": "markdown",
   "metadata": {},
   "source": [
    "Loading GFF as DataFrame"
   ]
  },
  {
   "cell_type": "code",
   "execution_count": 8,
   "metadata": {},
   "outputs": [],
   "source": [
    "GFF_frame = pd.read_csv('../data/TAIR10_GFF3_genes.gff', sep = '\\t', header = None,\n",
    "                        names = ['CHR', 'TAIR', 'feature', 'feat_start', 'feat_end', '.', 'strand', 'frame', 'ID'])"
   ]
  },
  {
   "cell_type": "markdown",
   "metadata": {},
   "source": [
    "Writing a BED file for each feature"
   ]
  },
  {
   "cell_type": "code",
   "execution_count": 9,
   "metadata": {
    "collapsed": true
   },
   "outputs": [],
   "source": [
    "features = []\n",
    "for i in GFF:\n",
    "    features.append(i[3])\n",
    "    \n",
    "def create_sub(filtered):\n",
    "    sub = GFF.filter(lambda x: x.name == filtered)\n",
    "    sub.saveas('../data/TAIR10_GFF3_genes_with_strand.bed.%s' % filtered)\n",
    "    \n",
    "for i in set(features):\n",
    "    create_sub(i)"
   ]
  },
  {
   "cell_type": "markdown",
   "metadata": {},
   "source": [
    "Loading BED files"
   ]
  },
  {
   "cell_type": "code",
   "execution_count": 10,
   "metadata": {},
   "outputs": [],
   "source": [
    "CDS = pyb.BedTool('../data/TAIR10_GFF3_genes_with_strand.bed.CDS')\n",
    "chromosome = pyb.BedTool('../data/TAIR10_GFF3_genes_with_strand.bed.chromosome')\n",
    "Exon = pyb.BedTool('../data/TAIR10_GFF3_genes_with_strand.bed.exon')\n",
    "UTR5 = pyb.BedTool('../data/TAIR10_GFF3_genes_with_strand.bed.five_prime_UTR')\n",
    "Genes = pyb.BedTool('../data/TAIR10_GFF3_genes_with_strand.bed.gene')\n",
    "mRNA = pyb.BedTool('../data/TAIR10_GFF3_genes_with_strand.bed.mRNA')\n",
    "mRNA_TE_gene = pyb.BedTool('../data/TAIR10_GFF3_genes_with_strand.bed.mRNA_TE_gene')\n",
    "miRNA = pyb.BedTool('../data/TAIR10_GFF3_genes_with_strand.bed.miRNA')\n",
    "ncRNA = pyb.BedTool('../data/TAIR10_GFF3_genes_with_strand.bed.ncRNA')\n",
    "protein = pyb.BedTool('../data/TAIR10_GFF3_genes_with_strand.bed.protein')\n",
    "pseudogene = pyb.BedTool('../data/TAIR10_GFF3_genes_with_strand.bed.pseudogene')\n",
    "pseudogenic_exon = pyb.BedTool('../data/TAIR10_GFF3_genes_with_strand.bed.pseudogenic_exon')\n",
    "pseudogenic_transcript = pyb.BedTool('../data/TAIR10_GFF3_genes_with_strand.bed.pseudogenic_transcript')\n",
    "rRNA = pyb.BedTool('../data/TAIR10_GFF3_genes_with_strand.bed.rRNA')\n",
    "snRNA = pyb.BedTool('../data/TAIR10_GFF3_genes_with_strand.bed.snRNA')\n",
    "snoRNA = pyb.BedTool('../data/TAIR10_GFF3_genes_with_strand.bed.snoRNA')\n",
    "tRNA = pyb.BedTool('../data/TAIR10_GFF3_genes_with_strand.bed.tRNA')\n",
    "UTR3 = pyb.BedTool('../data/TAIR10_GFF3_genes_with_strand.bed.three_prime_UTR')\n",
    "transposable_element_gene = pyb.BedTool('../data/TAIR10_GFF3_genes_with_strand.bed.transposable_element_gene')"
   ]
  },
  {
   "cell_type": "markdown",
   "metadata": {},
   "source": [
    "Testing for intersect with bedtools, requiring the complete STR to be withing the region"
   ]
  },
  {
   "cell_type": "code",
   "execution_count": 11,
   "metadata": {
    "collapsed": true
   },
   "outputs": [],
   "source": [
    "# Variable\n",
    "UTR5_STRs = vSTR_bed.intersect(UTR5, wo = True, f = 1.0)\n",
    "UTR3_STRs = vSTR_bed.intersect(UTR3, wo = True, f = 1.0)\n",
    "Genic_STRs = vSTR_bed.intersect(Genes, wo = True, f = 1.0)\n",
    "CDS_STRs = vSTR_bed.intersect(CDS, wo = True, f = 1.0)\n",
    "Intronic_STRs = Genic_STRs.intersect(Exon, v = True, wo = True, f = 1.0)\n",
    "mRNA_STRs = vSTR_bed.intersect(mRNA, wo = True, f = 1.0)\n",
    "miRNA_STRs = vSTR_bed.intersect(miRNA, wo = True, f = 1.0)\n",
    "ncRNA_STRs = vSTR_bed.intersect(ncRNA, wo = True, f = 1.0)\n",
    "protein_STRs = vSTR_bed.intersect(protein, wo = True, f = 1.0)\n",
    "pseudogene_STRs = vSTR_bed.intersect(pseudogene, wo = True, f = 1.0)\n",
    "pseudogenic_exon_STRs = vSTR_bed.intersect(pseudogenic_exon, wo = True, f = 1.0)\n",
    "pseudogenic_transcript_STRs = vSTR_bed.intersect(pseudogenic_transcript, wo = True, f = 1.0)\n",
    "snRNA_STRs = vSTR_bed.intersect(snRNA, wo = True, f = 1.0)\n",
    "snoRNA_STRs = vSTR_bed.intersect(snoRNA, wo = True, f = 1.0)\n",
    "tRNA_STRs = vSTR_bed.intersect(tRNA, wo = True, f = 1.0)\n",
    "transposable_element_gene_STRs = vSTR_bed.intersect(transposable_element_gene, wo = True, f = 1.0)\n",
    "Non_genic_STRs = vSTR_bed.intersect(Genes, v = True, wo = True)\n",
    "\n",
    "# Non-variable\n",
    "\n",
    "nvUTR5_STRs = nvSTR_bed.intersect(UTR5, wo = True, f = 1.0)\n",
    "nvUTR3_STRs = nvSTR_bed.intersect(UTR3, wo = True, f = 1.0)\n",
    "nvGenic_STRs = nvSTR_bed.intersect(Genes, wo = True, f = 1.0)\n",
    "nvCDS_STRs = nvSTR_bed.intersect(CDS, wo = True, f = 1.0)\n",
    "nvIntronic_STRs = nvGenic_STRs.intersect(Exon, v = True, wo = True, f = 1.0)\n",
    "nvmRNA_STRs = nvSTR_bed.intersect(mRNA, wo = True, f = 1.0)\n",
    "nvmiRNA_STRs = nvSTR_bed.intersect(miRNA, wo = True, f = 1.0)\n",
    "nvncRNA_STRs = nvSTR_bed.intersect(ncRNA, wo = True, f = 1.0)\n",
    "nvprotein_STRs = nvSTR_bed.intersect(protein, wo = True, f = 1.0)\n",
    "nvpseudogene_STRs = nvSTR_bed.intersect(pseudogene, wo = True, f = 1.0)\n",
    "nvpseudogenic_exon_STRs = nvSTR_bed.intersect(pseudogenic_exon, wo = True, f = 1.0)\n",
    "nvpseudogenic_transcript_STRs = nvSTR_bed.intersect(pseudogenic_transcript, wo = True, f = 1.0)\n",
    "nvsnRNA_STRs = nvSTR_bed.intersect(snRNA, wo = True, f = 1.0)\n",
    "nvsnoRNA_STRs = nvSTR_bed.intersect(snoRNA, wo = True, f = 1.0)\n",
    "nvtRNA_STRs = nvSTR_bed.intersect(tRNA, wo = True, f = 1.0)\n",
    "nvtransposable_element_gene_STRs = nvSTR_bed.intersect(transposable_element_gene, wo = True, f = 1.0)\n",
    "nvNon_genic_STRs = nvSTR_bed.intersect(Genes, v = True, wo = True)"
   ]
  },
  {
   "cell_type": "markdown",
   "metadata": {},
   "source": [
    "Retrieving the information to annotate the DataFrame"
   ]
  },
  {
   "cell_type": "code",
   "execution_count": 12,
   "metadata": {
    "collapsed": true
   },
   "outputs": [],
   "source": [
    "def get_starts_from_BED(BED):\n",
    "    return [i[3] for i in BED]"
   ]
  },
  {
   "cell_type": "markdown",
   "metadata": {},
   "source": [
    "Getting the start positions"
   ]
  },
  {
   "cell_type": "code",
   "execution_count": 13,
   "metadata": {
    "collapsed": true
   },
   "outputs": [],
   "source": [
    "# Variable\n",
    "\n",
    "UTR5_starts = get_starts_from_BED(UTR5_STRs)\n",
    "UTR3_starts = get_starts_from_BED(UTR3_STRs)\n",
    "CDS_starts = get_starts_from_BED(CDS_STRs)\n",
    "Intron_starts = get_starts_from_BED(Intronic_STRs)\n",
    "miRNA_starts = get_starts_from_BED(miRNA_STRs)\n",
    "ncRNA_starts = get_starts_from_BED(ncRNA_STRs)\n",
    "pseudo_starts = get_starts_from_BED(pseudogene_STRs)\n",
    "miRNA_starts = get_starts_from_BED(miRNA_STRs)\n",
    "te_starts = get_starts_from_BED(transposable_element_gene_STRs)\n",
    "non_genic_starts = get_starts_from_BED(Non_genic_STRs)\n",
    "\n",
    "# Non-variable\n",
    "\n",
    "nvUTR5_starts = get_starts_from_BED(nvUTR5_STRs)\n",
    "nvUTR3_starts = get_starts_from_BED(nvUTR3_STRs)\n",
    "nvCDS_starts = get_starts_from_BED(nvCDS_STRs)\n",
    "nvIntron_starts = get_starts_from_BED(nvIntronic_STRs)\n",
    "nvmiRNA_starts = get_starts_from_BED(nvmiRNA_STRs)\n",
    "nvncRNA_starts = get_starts_from_BED(nvncRNA_STRs)\n",
    "nvpseudo_starts = get_starts_from_BED(nvpseudogene_STRs)\n",
    "nvmiRNA_starts = get_starts_from_BED(nvmiRNA_STRs)\n",
    "nvte_starts = get_starts_from_BED(nvtransposable_element_gene_STRs)\n",
    "nvnon_genic_starts = get_starts_from_BED(nvNon_genic_STRs)"
   ]
  },
  {
   "cell_type": "markdown",
   "metadata": {},
   "source": [
    "Annotating variable DataFrame"
   ]
  },
  {
   "cell_type": "code",
   "execution_count": 14,
   "metadata": {},
   "outputs": [],
   "source": [
    "frame = v_sub_for_bed.copy()\n",
    "\n",
    "n = 0\n",
    "total = len(frame)\n",
    "whereabouts = []\n",
    "for i in frame.itertuples():\n",
    "\n",
    "    chrom = i[1]\n",
    "    start = i[2]\n",
    "    \n",
    "    chrom_start = chrom + '_' + str(start) \n",
    "    \n",
    "    if chrom_start in UTR5_starts:\n",
    "        whereabouts.append('five_prime_UTR')\n",
    "    elif chrom_start in UTR3_starts:\n",
    "        whereabouts.append('three_prime_UTR')\n",
    "    elif chrom_start in CDS_starts:\n",
    "        whereabouts.append('CDS')\n",
    "    elif chrom_start in Intron_starts:\n",
    "        whereabouts.append('Intron')\n",
    "    elif chrom_start in miRNA_starts:\n",
    "        whereabouts.append('miRNA')\n",
    "    elif chrom_start in ncRNA_starts:\n",
    "        whereabouts.append('ncRNA')\n",
    "    elif chrom_start in pseudo_starts:\n",
    "        whereabouts.append('pseudogene')\n",
    "    elif chrom_start in te_starts:\n",
    "        whereabouts.append('transposable_element_gene')\n",
    "    elif chrom_start in non_genic_starts:\n",
    "        whereabouts.append('Non_genic')\n",
    "    else:\n",
    "        whereabouts.append('Spanning')\n",
    "        \n",
    "v_sub_for_bed['WHERE'] = whereabouts"
   ]
  },
  {
   "cell_type": "markdown",
   "metadata": {},
   "source": [
    "Annotating non-variable DataFrame"
   ]
  },
  {
   "cell_type": "code",
   "execution_count": 15,
   "metadata": {
    "collapsed": true
   },
   "outputs": [],
   "source": [
    "frame = nv_sub_for_bed.copy()\n",
    "\n",
    "n = 0\n",
    "total = len(frame)\n",
    "whereabouts = []\n",
    "for i in frame.itertuples():\n",
    "\n",
    "    chrom = i[1]\n",
    "    start = i[2]\n",
    "    \n",
    "    chrom_start = chrom + '_' + str(start) \n",
    "    \n",
    "    if chrom_start in nvUTR5_starts:\n",
    "        whereabouts.append('five_prime_UTR')\n",
    "    elif chrom_start in nvUTR3_starts:\n",
    "        whereabouts.append('three_prime_UTR')\n",
    "    elif chrom_start in nvCDS_starts:\n",
    "        whereabouts.append('CDS')\n",
    "    elif chrom_start in nvIntron_starts:\n",
    "        whereabouts.append('Intron')\n",
    "    elif chrom_start in nvmiRNA_starts:\n",
    "        whereabouts.append('miRNA')\n",
    "    elif chrom_start in nvncRNA_starts:\n",
    "        whereabouts.append('ncRNA')\n",
    "    elif chrom_start in nvpseudo_starts:\n",
    "        whereabouts.append('pseudogene')\n",
    "    elif chrom_start in nvte_starts:\n",
    "        whereabouts.append('transposable_element_gene')\n",
    "    elif chrom_start in nvnon_genic_starts:\n",
    "        whereabouts.append('Non_genic')\n",
    "    else:\n",
    "        whereabouts.append('Spanning')\n",
    "nv_sub_for_bed['WHERE'] = whereabouts"
   ]
  },
  {
   "cell_type": "markdown",
   "metadata": {},
   "source": [
    "Adding info to frame"
   ]
  },
  {
   "cell_type": "code",
   "execution_count": 16,
   "metadata": {},
   "outputs": [],
   "source": [
    "vSTRs = pd.merge(v_sub_for_bed[['CHR_START', 'WHERE']], vSTRs)\n",
    "nvSTRs = pd.merge(nv_sub_for_bed[['CHR_START', 'WHERE']], nvSTRs)"
   ]
  },
  {
   "cell_type": "markdown",
   "metadata": {},
   "source": [
    "Need to add gene info to the loci spanning multiple features"
   ]
  },
  {
   "cell_type": "markdown",
   "metadata": {},
   "source": [
    "Function to make BED file"
   ]
  },
  {
   "cell_type": "code",
   "execution_count": 17,
   "metadata": {
    "collapsed": true
   },
   "outputs": [],
   "source": [
    "def make_bed_from_gene_frame(filename, frame):\n",
    "    tab = '\\t'\n",
    "    newline = '\\n'\n",
    "\n",
    "    fh = open(filename, 'w')\n",
    "    for i in frame.itertuples():\n",
    "        fh.write(i.CHR.lower() + tab + str(i.feat_start) + tab + str(i.feat_end) + tab + str(i.GENE) + newline)\n",
    "    fh.close()"
   ]
  },
  {
   "cell_type": "markdown",
   "metadata": {},
   "source": [
    "Adding info of genes of spanning loci"
   ]
  },
  {
   "cell_type": "code",
   "execution_count": 18,
   "metadata": {},
   "outputs": [
    {
     "name": "stderr",
     "output_type": "stream",
     "text": [
      "/anaconda/lib/python2.7/site-packages/ipykernel/__main__.py:2: SettingWithCopyWarning: \n",
      "A value is trying to be set on a copy of a slice from a DataFrame.\n",
      "Try using .loc[row_indexer,col_indexer] = value instead\n",
      "\n",
      "See the caveats in the documentation: http://pandas.pydata.org/pandas-docs/stable/indexing.html#indexing-view-versus-copy\n",
      "  from ipykernel import kernelapp as app\n"
     ]
    }
   ],
   "source": [
    "Gene_frame = GFF_frame[GFF_frame['feature']=='gene']\n",
    "Gene_frame['GENE'] = [i.split(';')[0].split('=')[1] for i in Gene_frame.ID]\n",
    "make_bed_from_gene_frame('../data/Gene_frame.bed', Gene_frame)\n",
    "Gene_frame_bed = pyb.BedTool('../data/Gene_frame.bed')\n",
    "\n",
    "make_bed_from_frame('../data/spanning.bed', v_sub_for_bed[v_sub_for_bed['WHERE']=='Spanning'])\n",
    "make_bed_from_frame('../data/nv_spanning.bed', nv_sub_for_bed[nv_sub_for_bed['WHERE']=='Spanning'])\n",
    "\n",
    "spanning = pyb.BedTool('../data/spanning.bed')\n",
    "nv_spanning = pyb.BedTool('../data/nv_spanning.bed')\n",
    "\n",
    "def return_spanning_genes_and_loci(spanning_bed):\n",
    "    spanning_chr_starts = []\n",
    "    spanning_genes = []\n",
    "    for i in Gene_frame_bed.intersect(spanning_bed):    \n",
    "        chr_start = i[0] + '_' + str(i[1])\n",
    "        gene = i[3]\n",
    "        spanning_chr_starts.append(chr_start)\n",
    "        spanning_genes.append(gene)\n",
    "    return (spanning_chr_starts, spanning_genes)\n",
    "\n",
    "spanning_chr_starts = return_spanning_genes_and_loci(spanning)[0]\n",
    "nv_spanning_chr_starts = return_spanning_genes_and_loci(nv_spanning)[0]\n",
    "spanning_genes = return_spanning_genes_and_loci(spanning)[1]\n",
    "nv_spanning_genes = return_spanning_genes_and_loci(nv_spanning)[1]\n",
    "\n",
    "vSpanFrame = pd.DataFrame([spanning_chr_starts, spanning_genes]).T.rename(columns = {0 : 'CHR_START', 1 : 'GENE2'})\n",
    "nvSpanFrame = pd.DataFrame([nv_spanning_chr_starts, nv_spanning_genes]).T.rename(columns = {0 : 'CHR_START', 1 : 'GENE2'})\n",
    "\n",
    "\n",
    "def get_gene_column(frame):\n",
    "    gene2_col = []\n",
    "    for i in frame.itertuples():\n",
    "        if 'AT' in str(i.GENE):\n",
    "            gene2_col.append(i.GENE.split('.')[0])\n",
    "        else:\n",
    "            gene2_col.append(i.GENE)   \n",
    "    return gene2_col\n",
    "\n",
    "vSTRs['GENE2'] = get_gene_column(vSTRs)\n",
    "nvSTRs['GENE2'] = get_gene_column(nvSTRs)\n",
    "\n",
    "vSTRs_span = pd.merge(vSTRs, vSpanFrame, on = ['CHR_START', 'GENE2'])\n",
    "nvSTRs_span = pd.merge(nvSTRs, nvSpanFrame, on = ['CHR_START', 'GENE2'])\n",
    "\n",
    "vSTRs_no_span = vSTRs[~vSTRs['CHR_START'].isin(vSpanFrame.CHR_START)]\n",
    "nvSTRs_no_span = nvSTRs[~nvSTRs['CHR_START'].isin(nvSTRs_span.CHR_START)]\n",
    "\n",
    "vSTRs = pd.concat([vSTRs_no_span, vSTRs_span])\n",
    "nvSTRs = pd.concat([nvSTRs_no_span, nvSTRs_span])"
   ]
  },
  {
   "cell_type": "markdown",
   "metadata": {},
   "source": [
    "Adding promoter info, need frame with only genes"
   ]
  },
  {
   "cell_type": "code",
   "execution_count": 19,
   "metadata": {
    "collapsed": true
   },
   "outputs": [],
   "source": [
    "def add_promoter_info_to_frame(dataframe):\n",
    "    frame = dataframe[dataframe['WHERE']=='Non_genic']\n",
    "    sub_for_prom = frame[['CHR', 'START', 'END', 'CHR_START']].drop_duplicates()\n",
    "    make_bed_from_frame('../data/sub_for_prom.bed', sub_for_prom)\n",
    "    Non_genic_bed = pyb.BedTool('../data/sub_for_prom.bed')\n",
    "    Genes_sorted = Genes.sort()\n",
    "\n",
    "    sub = Genes_sorted.filter(lambda x: x.strand == '+')\n",
    "    sub.saveas('../data/Genes_sorted_plus.bed')\n",
    "    Genes_sorted_plus = pyb.BedTool('../data/Genes_sorted_plus.bed')\n",
    "\n",
    "    sub = Genes_sorted.filter(lambda x: x.strand == '-')\n",
    "    sub.saveas('../data/Genes_sorted_minus.bed')\n",
    "    Genes_sorted_minus = pyb.BedTool('../data/Genes_sorted_minus.bed')\n",
    "\n",
    "    tab = '\\t'\n",
    "    newline = '\\n'\n",
    "\n",
    "    fh = open('../data/STR_promoters.txt', 'w')\n",
    "    fh.write('CHR_START' + tab + 'CHR' + tab + 'START' + tab + 'feat_start'+  tab + 'DISTANCE_TO_PROMOTER' + newline)\n",
    "    rep_lst = []\n",
    "    for i in Genes_sorted.closest(Non_genic_bed, io = True, d = True, D = 'a'):\n",
    "        chrom = i[0]\n",
    "        gene_start = i[1]\n",
    "        gene_end = i[2]\n",
    "        rep_start = i[7]\n",
    "        dist = i[-1]\n",
    "        rep_lst.append(rep_start)\n",
    "        chr_start = chrom + '_' + str(rep_start)\n",
    "        if (abs(int(i[-1])) < 500):\n",
    "            if int(i[-1]) < 0 and int(i[-1]) != -1:\n",
    "                fh.write(chr_start + tab + chrom + tab + str(rep_start) + tab + str(gene_start) + tab + str(dist) + newline)\n",
    "    fh.close()\n",
    "\n",
    "    STR_promoters = pd.read_table('../data/STR_promoters.txt')\n",
    "    Lowest = STR_promoters.groupby(['CHR_START'], sort=True)[['DISTANCE_TO_PROMOTER', 'feat_start']].max().reset_index()\n",
    "    Final_promoter_frame = pd.merge(Gene_frame[['GENE', 'feat_start']], Lowest)\n",
    "    map_this_to_main_frame = Final_promoter_frame[['GENE', 'CHR_START']]\n",
    "    sub = dataframe[['CHR_START']].drop_duplicates()\n",
    "\n",
    "    new_column = []\n",
    "    for i in sub.itertuples():\n",
    "        if i.CHR_START in list(map_this_to_main_frame.CHR_START):\n",
    "            name = map_this_to_main_frame[map_this_to_main_frame['CHR_START']==i.CHR_START].GENE.values[0]\n",
    "            new_column.append(name)\n",
    "        else:\n",
    "            new_column.append('None')\n",
    "\n",
    "    sub['Closest'] = new_column\n",
    "    Final_annotated_frame_closest = pd.merge(sub, dataframe)\n",
    "\n",
    "    Where_updated = []\n",
    "    for i in Final_annotated_frame_closest.itertuples():\n",
    "        if i.Closest == 'None':\n",
    "            Where_updated.append(i.WHERE.upper())\n",
    "        else:\n",
    "            Where_updated.append('PROMOTER')\n",
    "\n",
    "    Final_annotated_frame_closest['WHERE'] = Where_updated\n",
    "    return Final_annotated_frame_closest"
   ]
  },
  {
   "cell_type": "code",
   "execution_count": 20,
   "metadata": {},
   "outputs": [],
   "source": [
    "vSTRs_w_prom = add_promoter_info_to_frame(vSTRs)\n",
    "nvSTRs_w_prom = add_promoter_info_to_frame(nvSTRs)"
   ]
  },
  {
   "cell_type": "markdown",
   "metadata": {},
   "source": [
    "Writing frames"
   ]
  },
  {
   "cell_type": "code",
   "execution_count": 21,
   "metadata": {},
   "outputs": [],
   "source": [
    "vSTRs_w_prom.to_csv('../data/STRs_depth5_chr_start_maf09.annotated.tsv', sep = '\\t', index=None)\n",
    "nvSTRs_w_prom.to_csv('../data/STRs_depth5_chr_start_maf09_nv.annotated.tsv', sep = '\\t', index=None)"
   ]
  },
  {
   "cell_type": "code",
   "execution_count": 22,
   "metadata": {},
   "outputs": [],
   "source": [
    "vSTRs_w_prom = pd.read_table('../data/STRs_depth5_chr_start_maf09.annotated.tsv')"
   ]
  },
  {
   "cell_type": "code",
   "execution_count": 23,
   "metadata": {
    "collapsed": true
   },
   "outputs": [],
   "source": [
    "nvSTRs_w_prom = pd.read_table('../data/STRs_depth5_chr_start_maf09_nv.annotated.tsv')"
   ]
  }
 ],
 "metadata": {
  "kernelspec": {
   "display_name": "Python [conda root]",
   "language": "python",
   "name": "conda-root-py"
  },
  "language_info": {
   "codemirror_mode": {
    "name": "ipython",
    "version": 2
   },
   "file_extension": ".py",
   "mimetype": "text/x-python",
   "name": "python",
   "nbconvert_exporter": "python",
   "pygments_lexer": "ipython2",
   "version": "2.7.13"
  }
 },
 "nbformat": 4,
 "nbformat_minor": 2
}

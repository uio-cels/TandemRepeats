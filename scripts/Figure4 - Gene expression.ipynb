{
 "cells": [
  {
   "cell_type": "code",
   "execution_count": 3,
   "metadata": {},
   "outputs": [],
   "source": [
    "import pandas as pd\n",
    "from pylab import *\n",
    "from collections import Counter\n",
    "import scipy\n",
    "from matplotlib import rc\n",
    "import numpy as np\n",
    "from sklearn import preprocessing\n",
    "import pybedtools as pyb\n",
    "rc('font',**{'family':'sans-serif','sans-serif':['Helvetica']})"
   ]
  },
  {
   "cell_type": "markdown",
   "metadata": {},
   "source": [
    "Loading STR data"
   ]
  },
  {
   "cell_type": "code",
   "execution_count": 4,
   "metadata": {},
   "outputs": [
    {
     "name": "stderr",
     "output_type": "stream",
     "text": [
      "/anaconda/lib/python2.7/site-packages/ipykernel/__main__.py:6: SettingWithCopyWarning: \n",
      "A value is trying to be set on a copy of a slice from a DataFrame.\n",
      "Try using .loc[row_indexer,col_indexer] = value instead\n",
      "\n",
      "See the caveats in the documentation: http://pandas.pydata.org/pandas-docs/stable/indexing.html#indexing-view-versus-copy\n"
     ]
    }
   ],
   "source": [
    "Repeats = pd.read_table('../data/STRs_depth5_chr_start_maf09.annotated.tsv')\n",
    "\n",
    "# Adding gene info to promoter rows\n",
    "promoter = Repeats[Repeats['WHERE']=='PROMOTER']\n",
    "rest = Repeats[Repeats['WHERE']!='Promoter']\n",
    "promoter['GENE2'] = [x for x in promoter.Closest]\n",
    "Repeats = pd.concat([promoter, rest]).reset_index()"
   ]
  },
  {
   "cell_type": "markdown",
   "metadata": {},
   "source": [
    "## Making dataframes for matrix eQTL"
   ]
  },
  {
   "cell_type": "code",
   "execution_count": null,
   "metadata": {},
   "outputs": [],
   "source": [
    "# \"SNP\" location data\n",
    "STR_loc_data = Repeats[['CHR_START', 'CHR', 'START']].drop_duplicates().set_index('CHR_START')\n",
    "STR_loc_data.to_csv('../data/STR_loc_data.tsv', sep = '\\t')\n",
    "\n",
    "# Gene expression data\n",
    "Data = pd.read_table('../data/GSE80744_ath1001_tx_norm_2016-04-21-UQ_gNorm_normCounts_k4.tsv')\n",
    "Data.columns = ['GENE2'] + [i.replace('X', '') for i in Data.columns if 'X' in i]\n",
    "\n",
    "# Mapper \n",
    "mapper = Repeats.set_index('CHR_START')['GENE2'].to_dict()\n",
    "\n",
    "# Mapping accession to ecotype\n",
    "ACC_ECO = pd.read_csv('../data/AccListSraRunTable.csv')[['ACCESSION', 'Ecotype']].rename(columns = {'Ecotype' : 'ECOTYPE'})\n",
    "\n",
    "#Mapping ecotype to accession ID\n",
    "dicto = {}\n",
    "for i in ACC_ECO.itertuples():\n",
    "    dicto.update({i.ECOTYPE : i.ACCESSION})\n",
    "\n",
    "# New colums for gene expression frame\n",
    "new_columns = []\n",
    "for i in Data.columns:\n",
    "    if i == 'GENE2':\n",
    "        new_columns.append(i)\n",
    "    elif int(i) in dicto.keys():\n",
    "        new_columns.append(dicto[int(i)])\n",
    "    else:\n",
    "        new_columns.append(i)\n",
    "Data.columns = new_columns\n",
    "\n",
    "# Removing accessions without STR data\n",
    "Data.drop([col for col in Data.columns[1:] if 'SRR' not in col], axis=1,inplace=True)\n",
    "\n",
    "# SNP data\n",
    "STR_data_sub = Repeats[['CHR_START', 'ACCESSION', 'STR_DOSAGE']]\n",
    "\n",
    "# Function to normalize STR data\n",
    "def normalize(x):  \n",
    "    missing_indices = [n for n, v in enumerate(x) if str(v) == 'nan']\n",
    "    indices = [n for n, v in enumerate(x) if str(v) != 'nan']\n",
    "    values = [v for n, v in enumerate(x) if str(v) != 'nan']\n",
    "    scaled_values = preprocessing.scale(values)\n",
    "    \n",
    "    a = zeros(len(x))\n",
    "    c = -1\n",
    "    for n, v in enumerate(a):\n",
    "        if n in missing_indices:\n",
    "            a[n] = 'NaN'\n",
    "        if n in indices:\n",
    "            c += 1\n",
    "            a[n] = scaled_values[c]\n",
    "\n",
    "    return a\n",
    "\n",
    "# Removing accessions without gene expression data\n",
    "STR_data = STR_data_sub[STR_data_sub['ACCESSION'].isin(Data.columns[1:])].pivot_table(\n",
    "           index = 'CHR_START', columns = 'ACCESSION', values = 'STR_DOSAGE')\n",
    "\n",
    "# Normalizing\n",
    "Norm_STR_data = STR_data.apply(normalize, axis = 1)"
   ]
  },
  {
   "cell_type": "code",
   "execution_count": null,
   "metadata": {
    "collapsed": true
   },
   "outputs": [],
   "source": [
    "# Not in Covariates\n",
    "Norm_STR_data.drop(['SRR1945934'], axis = 1, inplace = True)\n",
    "Norm_STR_data.to_csv('../data/Norm_STR_data.tsv', sep = '\\t')"
   ]
  },
  {
   "cell_type": "markdown",
   "metadata": {},
   "source": [
    "Control"
   ]
  },
  {
   "cell_type": "code",
   "execution_count": null,
   "metadata": {
    "collapsed": true
   },
   "outputs": [],
   "source": [
    "Control_data = Norm_STR_data.copy()\n",
    "for n in range(len(Control_data.SRR1945451)):\n",
    "    Control_data.iloc[n] = choice(Control_data.iloc[n], len(Control_data.iloc[n]), replace = False)"
   ]
  },
  {
   "cell_type": "code",
   "execution_count": null,
   "metadata": {},
   "outputs": [],
   "source": [
    "# Not in Covariates\n",
    "Control_data.to_csv('../data/Control_data.tsv', sep = '\\t')"
   ]
  },
  {
   "cell_type": "markdown",
   "metadata": {},
   "source": [
    "Number of samples need to be identical in STR_data file and GE_data file"
   ]
  },
  {
   "cell_type": "code",
   "execution_count": null,
   "metadata": {
    "collapsed": true
   },
   "outputs": [],
   "source": [
    "Data.drop([col for col in Data.columns[1:] if col not in STR_data.columns], axis=1,inplace=True)"
   ]
  },
  {
   "cell_type": "code",
   "execution_count": null,
   "metadata": {
    "collapsed": true
   },
   "outputs": [],
   "source": [
    "Data.drop(['SRR1945934'], axis = 1, inplace = True)\n",
    "Data.set_index('GENE2').to_csv('../data/GE_data.tsv', sep = '\\t')"
   ]
  },
  {
   "cell_type": "markdown",
   "metadata": {},
   "source": [
    "Gene location data"
   ]
  },
  {
   "cell_type": "code",
   "execution_count": null,
   "metadata": {
    "collapsed": true
   },
   "outputs": [],
   "source": [
    "Gene_loc_data = Repeats[Repeats['GENE2'].isin(Data.GENE2)][['GENE2', 'CHR', 'START', 'END']].drop_duplicates()"
   ]
  },
  {
   "cell_type": "code",
   "execution_count": null,
   "metadata": {},
   "outputs": [],
   "source": [
    "GFF = pyb.BedTool('../data/TAIR10_GFF3_genes.gff')\n",
    "fh = open('../data/Gene_loc_data.tsv', 'w')\n",
    "fh.write('GENE2' + '\\t' + 'CHR' + '\\t' + 'START' + '\\t' + 'END' + '\\n')\n",
    "for i in GFF:\n",
    "    if i[2] == 'gene':\n",
    "        gene = i[-1].split('=')[1].split(';')[0]\n",
    "        fh.write(gene + '\\t' + i[0].lower() + '\\t' + i[3] + '\\t' + i[4] + '\\n')\n",
    "fh.close()\n",
    "Gene_loc_data.to_csv('../data/Gene_loc_data.tsv', sep = '\\t')"
   ]
  },
  {
   "cell_type": "markdown",
   "metadata": {},
   "source": [
    "Population structure data"
   ]
  },
  {
   "cell_type": "code",
   "execution_count": null,
   "metadata": {},
   "outputs": [],
   "source": [
    "Groups = pd.read_csv('../data/group_data.csv')\n",
    "\n",
    "# Setting numerical values\n",
    "group_dict =  {'admixed': 5,\n",
    "               'asia': 2,\n",
    "               'central_europe': 5,\n",
    "               'germany': 4,\n",
    "               'italy_balkan_caucasus': 5,\n",
    "               'north_sweden': 1,\n",
    "               'relict': 3,\n",
    "               'south_sweden': 0,\n",
    "               'spain': 5,\n",
    "               'western_europe': 5}\n",
    "\n",
    "Groups.loc[:,'group'] = [group_dict[i] for i in Groups.loc[:,'group']]\n",
    "\n",
    "Groups = Groups[~Groups['ACCESSION'].isin([acc for acc in Groups.ACCESSION if acc not in STR_data.columns])]\n",
    "\n",
    "Groups[['group', 'ACCESSION']].set_index('ACCESSION').T.to_csv('../data/matrixEQTL_covariate.csv', sep = '\\t')"
   ]
  },
  {
   "cell_type": "markdown",
   "metadata": {},
   "source": [
    "This accession is not in the group data set: SRR1945934"
   ]
  },
  {
   "cell_type": "code",
   "execution_count": null,
   "metadata": {},
   "outputs": [],
   "source": [
    "for i in STR_data.columns:\n",
    "    if i not in set(Groups.ACCESSION):\n",
    "        print i"
   ]
  },
  {
   "cell_type": "markdown",
   "metadata": {},
   "source": [
    "These frames were used for running 'matrixEQTL' in R"
   ]
  },
  {
   "cell_type": "markdown",
   "metadata": {},
   "source": [
    "Loading results. This is **Supplementary Data 2**"
   ]
  },
  {
   "cell_type": "code",
   "execution_count": null,
   "metadata": {
    "collapsed": true
   },
   "outputs": [],
   "source": [
    "obs = pd.read_csv('../data/cis_norm_obs_group.csv')\n",
    "con = pd.read_csv('../data/cis_obs_group_control.csv')\n",
    "\n",
    "# Removing invalid tests\n",
    "obs = obs[obs['statistic']!=0]\n",
    "con = con[con['statistic']!=0]"
   ]
  },
  {
   "cell_type": "markdown",
   "metadata": {},
   "source": [
    "## Figure 4a. Gene expression QQ plot"
   ]
  },
  {
   "cell_type": "code",
   "execution_count": null,
   "metadata": {},
   "outputs": [],
   "source": [
    "fig, ax = subplots(figsize = (4,4))\n",
    "\n",
    "control_sort = sort(con.pvalue)\n",
    "real_sort = sort(obs.pvalue)\n",
    "\n",
    "obs_y = [-log10(i) for i in real_sort]\n",
    "obs_x = [-log10(i) for i in sorted(linspace(0, 1, len(real_sort)))]\n",
    "control_y = [-log10(i) for i in control_sort]\n",
    "control_x = [-log10(i) for i in sorted(linspace(0, 1, len(control_sort)))]\n",
    "\n",
    "\n",
    "scatter(obs_x, obs_y, color = 'Red', s = 3)\n",
    "scatter(control_x, control_y, color = 'Black', s = 3, alpha = 0.5)\n",
    "plot([0,4.5],[0,4.5], color=\"gray\")\n",
    "\n",
    "xlim(0, 4)\n",
    "\n",
    "ax.spines[\"top\"].set_visible(False)\n",
    "ax.spines[\"right\"].set_visible(False)\n",
    "ax.set_xticklabels(ax.get_xticks(), size=15)\n",
    "ax.set_yticklabels(ax.get_yticks(), size=15)\n",
    "ax.legend(fontsize = 16, loc = 'upper_left')\n",
    "tight_layout()\n",
    "savefig('../Figures/norm_cis_eQTL_QQ_plot.pdf', type = 'pdf', transparent = True)\n",
    "savefig('../Figures/norm_cis_eQTL_QQ_plot.png', type = 'png', transparent = True, dpi = 300)\n",
    "\n",
    "\n",
    "show()"
   ]
  },
  {
   "cell_type": "markdown",
   "metadata": {},
   "source": [
    "Plotting expression STRs by genomic context"
   ]
  },
  {
   "cell_type": "markdown",
   "metadata": {},
   "source": [
    "Making frame for plotting"
   ]
  },
  {
   "cell_type": "code",
   "execution_count": null,
   "metadata": {},
   "outputs": [],
   "source": [
    "# Adding where\n",
    "where = Repeats[Repeats['CHR_START'].isin(obs.snps)][['WHERE', 'CHR_START']].drop_duplicates()\n",
    "obs.rename(columns = {'snps' : 'CHR_START'}, inplace = True)\n",
    "obs_where = pd.merge(obs, where)\n",
    "\n",
    "# Filtering for significant loci\n",
    "sig_obs_where = obs_where[obs_where['FDR']< 0.05]\n",
    "\n",
    "# For plotting direction\n",
    "sig_obs_where.beta = [1 if x >= 0 else -1 for x in sig_obs_where.beta]\n",
    "\n",
    "# Standard error\n",
    "sig_obs_where['beta_se'] = sig_obs_where.beta / sig_obs_where.statistic\n",
    "\n",
    "# Frame\n",
    "data = sig_obs_where[['WHERE', 'beta', 'CHR_START']].pivot_table('beta', 'WHERE', 'CHR_START').replace(np.nan, 0)"
   ]
  },
  {
   "cell_type": "markdown",
   "metadata": {},
   "source": [
    "Dividing by direction of effect"
   ]
  },
  {
   "cell_type": "code",
   "execution_count": null,
   "metadata": {
    "collapsed": true
   },
   "outputs": [],
   "source": [
    "CDS_neg = Counter(data.loc['CDS'])[-1.0]\n",
    "CDS_pos = Counter(data.loc['CDS'])[1]\n",
    "CDS_all = Counter(data.loc['CDS'])[0]\n",
    "INTRON_neg = Counter(data.loc['INTRON'])[-1.0]\n",
    "INTRON_pos = Counter(data.loc['INTRON'])[1]\n",
    "INTRON_all = Counter(data.loc['INTRON'])[0]\n",
    "UTR5_neg = Counter(data.loc['FIVE_PRIME_UTR'])[-1.0]\n",
    "UTR5_pos = Counter(data.loc['FIVE_PRIME_UTR'])[1]\n",
    "UTR5_all = Counter(data.loc['FIVE_PRIME_UTR'])[0]\n",
    "UTR3_neg = Counter(data.loc['THREE_PRIME_UTR'])[-1.0]\n",
    "UTR3_pos = Counter(data.loc['THREE_PRIME_UTR'])[1]\n",
    "UTR3_all = Counter(data.loc['THREE_PRIME_UTR'])[0]\n",
    "PROMOTER_neg = Counter(data.loc['PROMOTER'])[-1.0]\n",
    "PROMOTER_pos = Counter(data.loc['PROMOTER'])[1]\n",
    "PROMOTER_all = Counter(data.loc['PROMOTER'])[0]\n",
    "SPANNING_neg = Counter(data.loc['SPANNING'])[-1.0]\n",
    "SPANNING_pos = Counter(data.loc['SPANNING'])[1]\n",
    "SPANNING_all = Counter(data.loc['SPANNING'])[0]"
   ]
  },
  {
   "cell_type": "markdown",
   "metadata": {},
   "source": [
    "Dictionary to keep information"
   ]
  },
  {
   "cell_type": "code",
   "execution_count": null,
   "metadata": {
    "collapsed": true
   },
   "outputs": [],
   "source": [
    "frac_dict = {}\n",
    "for feature in ['CDS', 'INTRON', 'FIVE_PRIME_UTR', 'THREE_PRIME_UTR', 'PROMOTER', 'SPANNING']:\n",
    "    tested = float(len(set(Repeats[Repeats['WHERE']==feature].CHR_START)))\n",
    "    sig = len(set(sig_obs_where[sig_obs_where['WHERE']==feature].CHR_START))\n",
    "    frac = (sig / tested) * 100\n",
    "    frac_dict.update({feature : frac})"
   ]
  },
  {
   "cell_type": "code",
   "execution_count": null,
   "metadata": {
    "collapsed": true
   },
   "outputs": [],
   "source": [
    "NEG = sig_obs_where[sig_obs_where['beta']==-1]\n",
    "POS = sig_obs_where[sig_obs_where['beta']==1]"
   ]
  },
  {
   "cell_type": "markdown",
   "metadata": {},
   "source": [
    "## Figure 4b. Direction of effect"
   ]
  },
  {
   "cell_type": "code",
   "execution_count": null,
   "metadata": {},
   "outputs": [],
   "source": [
    "f, ax = subplots(frameon = True)\n",
    "a = [CDS_neg, INTRON_neg, UTR5_neg, UTR3_neg, PROMOTER_neg, SPANNING_neg]\n",
    "b = [CDS_pos, INTRON_pos, UTR5_pos, UTR3_pos, PROMOTER_pos, SPANNING_pos] \n",
    "\n",
    "ax.bar([0,0.5,1,1.5, 2.0, 2.5], a, width=0.125, color = '#d95f0e', label = 'Negative correlation', linewidth = 1, edgecolor = 'Black')\n",
    "ax.bar([0.125,0.625,1.125,1.625, 2.125, 2.625], b, width = 0.125, color = '#fff7bc', label = 'Positive correlation', linewidth = 1, edgecolor = 'Black')\n",
    "xticks([tick + 0.56 for tick in ax.get_xticks()])\n",
    "ax.set_xticklabels(['CDS', 'Intron', '5\\'UTR', '3\\'UTR', 'Promoter', 'Spanning'])\n",
    "ax.spines[\"top\"].set_visible(False)\n",
    "ax.spines[\"right\"].set_visible(False)\n",
    "#ylim(0, 65)\n",
    "xlim(-0.3, 3)\n",
    "#ax2 = ax.twinx()\n",
    "#ax2.spines[\"top\"].set_visible(False)\n",
    "#ax2.yaxis.set_label_position(\"right\")\n",
    "\n",
    "\n",
    "ax.legend(loc = 'upper right')\n",
    "savefig('../Figures/eQTL_results_norm_barplot.pdf', type = 'pdf', transparent = True)\n",
    "savefig('../Figures/eQTL_results_norm_barplot.png', type = 'pdf', transparent = True, dpi = 300)\n",
    "\n",
    "\n",
    "show()"
   ]
  },
  {
   "cell_type": "code",
   "execution_count": null,
   "metadata": {},
   "outputs": [],
   "source": [
    "# Datasets\n",
    "negs = [CDS_neg, INTRON_neg, UTR5_neg, UTR3_neg, PROMOTER_neg, SPANNING_neg]\n",
    "poss = [CDS_pos, INTRON_pos, UTR5_pos, UTR3_pos, PROMOTER_pos, SPANNING_pos]\n",
    "texts = ['CDS', 'INTRON', 'UTR5', 'UTR3', 'PROMOTER', 'SPANNING']\n",
    "\n",
    "# Simulations\n",
    "observed = []\n",
    "expected = []\n",
    "for i in range(len(negs)):\n",
    "    neg = negs[i]\n",
    "    pos = poss[i]\n",
    "    observed.append(neg)\n",
    "    exp = float(neg + pos) / 2\n",
    "    expected.append(exp)\n",
    "\n",
    "print scipy.stats.chisquare(observed, f_exp=expected)"
   ]
  },
  {
   "cell_type": "markdown",
   "metadata": {},
   "source": [
    "No statistically significant bias in direction of effect"
   ]
  },
  {
   "cell_type": "markdown",
   "metadata": {},
   "source": [
    "## Figure 4c. Percentage of eSTRs in genomic features"
   ]
  },
  {
   "cell_type": "code",
   "execution_count": null,
   "metadata": {},
   "outputs": [],
   "source": [
    "f, ax = subplots(frameon = True, figsize = (4,4))\n",
    "c = [frac_dict['CDS'], frac_dict['INTRON'], frac_dict['FIVE_PRIME_UTR'], frac_dict['THREE_PRIME_UTR'], frac_dict['PROMOTER'], frac_dict['SPANNING']]\n",
    "\n",
    "ax.bar([0,1,2,3,4,5], c, width = 0.7, color = '#fec44f', label = 'eSTRs in group (%)', linewidth = 1, edgecolor = 'Black')\n",
    "ax.set_xticklabels(['', 'CDS', 'Intron', '5\\'UTR', '3\\'UTR', 'Promoter', 'Spanning'], size = 15, rotation = 70)\n",
    "ax.set_yticklabels(ax.get_yticks(), size=15)\n",
    "ax.spines[\"top\"].set_visible(False)\n",
    "ax.spines[\"right\"].set_visible(False)\n",
    "tight_layout()\n",
    "savefig('../Figures/eQTL_results_norm_barplot_perc.pdf', type = 'pdf', transparent = True)\n",
    "savefig('../Figures/eQTL_results_norm_barplot_perc.png', type = 'pdf', transparent = True, dpi = 300)\n",
    "show()\n",
    "\n"
   ]
  },
  {
   "cell_type": "markdown",
   "metadata": {},
   "source": [
    "## Figure 4d. Top 5 eSTRs"
   ]
  },
  {
   "cell_type": "markdown",
   "metadata": {},
   "source": [
    "Gene expression data downloaded from https://www.ncbi.nlm.nih.gov/geo/query/acc.cgi?acc=GSE80744"
   ]
  },
  {
   "cell_type": "code",
   "execution_count": null,
   "metadata": {},
   "outputs": [],
   "source": [
    "f, axes = subplots(nrows = 1, ncols = 5, figsize = (25,4), sharey = False)\n",
    "counter = -1\n",
    "\n",
    "boxprops = dict(linestyle='-', linewidth=3, color='darkorange')\n",
    "flierprops = dict(marker='.', markerfacecolor='black', markersize=5,\n",
    "                  linestyle='none')\n",
    "medianprops = dict(linestyle='-', linewidth=3, color='black')\n",
    "\n",
    "sig_res = obs[obs['FDR']<= 0.05]\n",
    "\n",
    "for row in sig_res.sort_values(by = 'FDR', ascending = True).head(5).itertuples():\n",
    "        counter += 1\n",
    "        ax = axes.flatten()[counter]\n",
    "        y = STR_data.reset_index()[STR_data.reset_index()['CHR_START']==row.CHR_START].dropna(axis = 1).iloc[0][1:].values\n",
    "        columns = STR_data.reset_index()[STR_data.reset_index()['CHR_START']==row.CHR_START].dropna(axis = 1).columns[1:]\n",
    "\n",
    "        filtered_Data = Data.drop([col for col in Data.columns[1:] if col not in columns], axis=1, inplace=False)\n",
    "        x = filtered_Data[filtered_Data['GENE2']==mapper[row.CHR_START]].iloc[0].values[1:]\n",
    "        variants = []\n",
    "        expression = []\n",
    "        df = pd.DataFrame([y, x]).T.dropna()\n",
    "\n",
    "        for i in set(df[0]):\n",
    "            variants.append(i)\n",
    "            expression.append(list(df[df[0]==i][1].values))\n",
    "        ax.boxplot(expression, positions = variants, boxprops = boxprops, flierprops=flierprops,\n",
    "                   medianprops = medianprops)\n",
    "\n",
    "        \n",
    "        ticks = []\n",
    "        for tick in ax.xaxis.get_ticklabels():\n",
    "            ticks.append(tick.get_text())\n",
    "        for tick in ax.xaxis.get_ticklabels():\n",
    "            if tick.get_text() == min(ticks) or tick.get_text() == max(ticks):\n",
    "                tick.set_fontsize(20)\n",
    "            else:\n",
    "                tick.set_visible(False)\n",
    "        ax.get_yaxis().set_major_formatter(matplotlib.ticker.FuncFormatter(lambda x, p: format(int(x), ',')))\n",
    "        setp(ax.yaxis.get_ticklabels(), size = 20)\n",
    "\n",
    "\n",
    "        ax.spines[\"top\"].set_visible(False)\n",
    "        ax.spines[\"right\"].set_visible(False)\n",
    "tight_layout()\n",
    "savefig('../Figures/Top5_eSTRs_by_FDR.pdf', type = 'pdf', transparent = True)\n",
    "savefig('../Figures/Top5_eSTRs_by_FDR.png', type = 'png', transparent = True)\n",
    "show()"
   ]
  }
 ],
 "metadata": {
  "kernelspec": {
   "display_name": "Python [conda root]",
   "language": "python",
   "name": "conda-root-py"
  },
  "language_info": {
   "codemirror_mode": {
    "name": "ipython",
    "version": 2
   },
   "file_extension": ".py",
   "mimetype": "text/x-python",
   "name": "python",
   "nbconvert_exporter": "python",
   "pygments_lexer": "ipython2",
   "version": "2.7.13"
  }
 },
 "nbformat": 4,
 "nbformat_minor": 2
}

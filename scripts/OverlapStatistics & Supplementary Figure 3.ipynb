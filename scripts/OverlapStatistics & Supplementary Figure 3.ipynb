{
 "cells": [
  {
   "cell_type": "code",
   "execution_count": 144,
   "metadata": {
    "collapsed": true
   },
   "outputs": [],
   "source": [
    "import pandas as pd\n",
    "import pybedtools as pyb\n",
    "from Bio import SeqIO\n",
    "from pylab import *\n",
    "import glob\n",
    "import seaborn as sns\n",
    "from seaborn import distplot\n",
    "import pickle\n",
    "from matplotlib_venn import venn3, venn3_circles\n",
    "from itertools import groupby, count\n",
    "from collections import Counter"
   ]
  },
  {
   "cell_type": "markdown",
   "metadata": {},
   "source": [
    "Downloaded coding sequences from http://www.arabidopsis.org and ran TRF "
   ]
  },
  {
   "cell_type": "code",
   "execution_count": 4,
   "metadata": {
    "collapsed": true
   },
   "outputs": [],
   "source": [
    "TRF_OUTPUT = '../data/TAIR10_cds_20101214_updated.trf.output' # Tandem repeats finder output\n",
    "BED_OUTPUT = '../data/TAIR10_cds_20101214_updated.trf.output.BED'"
   ]
  },
  {
   "cell_type": "markdown",
   "metadata": {},
   "source": [
    "Making BED files from TRF output"
   ]
  },
  {
   "cell_type": "code",
   "execution_count": 5,
   "metadata": {
    "collapsed": true
   },
   "outputs": [],
   "source": [
    "fh = open(TRF_OUTPUT, 'r')\n",
    "TRF = fh.read()\n",
    "fh.close()\n",
    "\n",
    "# Making dictionary with each gene as a key and the repeats within the gene in a list\n",
    "TRF_dict = {}\n",
    "for i in TRF.split('@'):\n",
    "    split = i.split('\\n')\n",
    "    if split != ['']:\n",
    "        gene = str(split).split('|')[0].replace('[\\'', '').replace('[\"', '').replace(' ', '')\n",
    "        repeats = split[1:len(split) - 1]\n",
    "        repeat_list = []\n",
    "        for repeat in repeats:\n",
    "            #if repeat.split()[2] == str(3):\n",
    "                repeat_list.append(repeat.split(' ')[0:2])\n",
    "        TRF_dict.update({gene : repeat_list})\n",
    "        \n",
    "# Making BED file\n",
    "fh = open(BED_OUTPUT, 'w')\n",
    "string = ''\n",
    "\n",
    "tab = '\\t'\n",
    "for i in TRF_dict.keys():\n",
    "    for k in TRF_dict[i]:\n",
    "        start = (int(k[0]) -1) / 3\n",
    "        end = (int(k[1])) / 3\n",
    "        string += i + tab + str(start) + tab + str(end) + tab + 'STR' + tab + '+' + '\\n'\n",
    "fh.write(string)\n",
    "fh.close()"
   ]
  },
  {
   "cell_type": "markdown",
   "metadata": {},
   "source": [
    "Function to \"clean\" data, avoiding duplicate coordinates in different transcripts in the same gene. This would bias stats later on."
   ]
  },
  {
   "cell_type": "code",
   "execution_count": 195,
   "metadata": {
    "collapsed": true
   },
   "outputs": [],
   "source": [
    "def clean(data, name):\n",
    "    # Writing output of intersect to file\n",
    "    fh = open('../data/unclean_data_%s.tsv' % name, 'w')\n",
    "    tab = '\\t'\n",
    "    newline = '\\n'\n",
    "    string = 'GENE' + tab + 'START' + tab + 'END' + tab + 'FEATURE' + newline\n",
    "    for i in data:\n",
    "        string += i[0] + tab + str(i[1]) + tab + str(i[2]) + tab + i[3] + newline\n",
    "    fh.write(string)\n",
    "    fh.close()\n",
    "\n",
    "    # Doing the manipulations with pandas\n",
    "    df = pd.read_table('../data/unclean_data_%s.tsv' % name)\n",
    "    df['GENE2'] = [i.split('.')[0] for i in df.GENE]\n",
    "    df = df.drop_duplicates(subset = ['GENE2', 'START', 'END'])\n",
    "\n",
    "    # Writing the dataframe to BED\n",
    "    fh = open('../data/clean_data_%s.bed' % name, 'w')\n",
    "    string = ''\n",
    "    for i in df.itertuples():\n",
    "        string += str(i[1]) + tab + str(i[2]) + tab + str(i[3]) + tab + str(i[4]) + newline\n",
    "    fh.write(string)\n",
    "    fh.close()\n",
    "\n",
    "    return pyb.BedTool('../data/clean_data_%s.bed' % name)"
   ]
  },
  {
   "cell_type": "markdown",
   "metadata": {},
   "source": [
    "Loading BED"
   ]
  },
  {
   "cell_type": "code",
   "execution_count": 7,
   "metadata": {
    "collapsed": true
   },
   "outputs": [],
   "source": [
    "STRs = pyb.BedTool(BED_OUTPUT)"
   ]
  },
  {
   "cell_type": "code",
   "execution_count": 8,
   "metadata": {
    "collapsed": true
   },
   "outputs": [],
   "source": [
    "cSTRs = clean(STRs, 'STRs')"
   ]
  },
  {
   "cell_type": "markdown",
   "metadata": {},
   "source": [
    "Making dictionary with protein lengths for stats later"
   ]
  },
  {
   "cell_type": "code",
   "execution_count": 188,
   "metadata": {},
   "outputs": [
    {
     "data": {
      "text/plain": [
       "<BedTool(clean_data_STRs.bed)>"
      ]
     },
     "execution_count": 188,
     "metadata": {},
     "output_type": "execute_result"
    }
   ],
   "source": [
    "ID_list = []\n",
    "for i in cSTRs:\n",
    "    ID_list.append(i[0])\n",
    "\n",
    "string = ''\n",
    "dictionary = {}\n",
    "for record in SeqIO.parse('../data/TAIR10_pep_20101214.txt', 'fasta'):\n",
    "    if record.id in ID_list:\n",
    "        dictionary.update({record.id : (0, len(record.seq))})\n",
    "        \n",
    "cSTRs.set_chromsizes(dictionary)"
   ]
  },
  {
   "cell_type": "markdown",
   "metadata": {},
   "source": [
    "### DisoRDPbind"
   ]
  },
  {
   "cell_type": "markdown",
   "metadata": {},
   "source": [
    "Splitting into bulks of 5000 as this is the limit of what the webservice at http://biomine.cs.vcu.edu/servers/DisoRDPbind/ accepts."
   ]
  },
  {
   "cell_type": "code",
   "execution_count": 14,
   "metadata": {
    "collapsed": true
   },
   "outputs": [],
   "source": [
    "!mkdir ../data/FASTA_SEQUENCES/"
   ]
  },
  {
   "cell_type": "code",
   "execution_count": 15,
   "metadata": {},
   "outputs": [
    {
     "name": "stdout",
     "output_type": "stream",
     "text": [
      "Wrote 5000 records to ../data/FASTA_SEQUENCES/TAIR10_pep_20101214_1.fasta\n",
      "Wrote 5000 records to ../data/FASTA_SEQUENCES/TAIR10_pep_20101214_2.fasta\n",
      "Wrote 5000 records to ../data/FASTA_SEQUENCES/TAIR10_pep_20101214_3.fasta\n",
      "Wrote 5000 records to ../data/FASTA_SEQUENCES/TAIR10_pep_20101214_4.fasta\n",
      "Wrote 5000 records to ../data/FASTA_SEQUENCES/TAIR10_pep_20101214_5.fasta\n",
      "Wrote 5000 records to ../data/FASTA_SEQUENCES/TAIR10_pep_20101214_6.fasta\n",
      "Wrote 5000 records to ../data/FASTA_SEQUENCES/TAIR10_pep_20101214_7.fasta\n",
      "Wrote 386 records to ../data/FASTA_SEQUENCES/TAIR10_pep_20101214_8.fasta\n"
     ]
    }
   ],
   "source": [
    "def batch_iterator(iterator, batch_size):\n",
    "    \"\"\"Returns lists of length batch_size.\n",
    "\n",
    "    This can be used on any iterator, for example to batch up\n",
    "    SeqRecord objects from Bio.SeqIO.parse(...), or to batch\n",
    "    Alignment objects from Bio.AlignIO.parse(...), or simply\n",
    "    lines from a file handle.\n",
    "\n",
    "    This is a generator function, and it returns lists of the\n",
    "    entries from the supplied iterator.  Each list will have\n",
    "    batch_size entries, although the final list may be shorter.\n",
    "    \"\"\"\n",
    "    entry = True  # Make sure we loop once\n",
    "    while entry:\n",
    "        batch = []\n",
    "        while len(batch) < batch_size:\n",
    "            try:\n",
    "                entry = iterator.next()\n",
    "            except StopIteration:\n",
    "                entry = None\n",
    "            if entry is None:\n",
    "                # End of file\n",
    "                break\n",
    "            batch.append(entry)\n",
    "        if batch:\n",
    "            yield batch\n",
    "\n",
    "record_iter = SeqIO.parse(open(\"../data/TAIR10_pep_20101214.txt\"),\"fasta\")\n",
    "for i, batch in enumerate(batch_iterator(record_iter, 5000)):\n",
    "    filename = \"../data/FASTA_SEQUENCES/TAIR10_pep_20101214_%i.fasta\" % (i + 1)\n",
    "    with open(filename, \"w\") as handle:\n",
    "        count = SeqIO.write(batch, handle, \"fasta\")\n",
    "    print(\"Wrote %i records to %s\" % (count, filename))"
   ]
  },
  {
   "cell_type": "markdown",
   "metadata": {},
   "source": [
    "Concatenating results downloaded from webservice"
   ]
  },
  {
   "cell_type": "code",
   "execution_count": 20,
   "metadata": {
    "collapsed": true
   },
   "outputs": [],
   "source": [
    "! cat ../data/DisoRDPbind_Results/*.DisoRDPbind.results* > ../data/DisoRDPbind_Results/DisoRDPbind.results.txt"
   ]
  },
  {
   "cell_type": "markdown",
   "metadata": {},
   "source": [
    "Making BED file from DisoRDPbind output"
   ]
  },
  {
   "cell_type": "code",
   "execution_count": 19,
   "metadata": {
    "collapsed": true
   },
   "outputs": [],
   "source": [
    "# Making BED file from DisorDPbind output\n",
    "def make_bed_from_disordbind(DisoRDPbind_output, filename, prot_dna_rna):\n",
    "    gene_lst = []\n",
    "    fh = open(filename, 'w')\n",
    "    tab = '\\t'\n",
    "    newline = '\\n'\n",
    "    for i in sorted(DisoRDPbind_output.split('>')):\n",
    "        if i != '':\n",
    "            gene_part = i.split()[0].replace('_', '.').replace('..Symbol', '')[:-1]\n",
    "            transcript_n = i.split()[0].replace('_', '.').replace('..Symbol', '')[-1]\n",
    "            \n",
    "            gene = gene_part + '.' + transcript_n\n",
    "                 \n",
    "            if prot_dna_rna == 'Protein':\n",
    "                bin_prot = [p for p in i.split('\\n')[6].split(':')[1]]\n",
    "\n",
    "                AA_pos = 0\n",
    "                merge_list = []\n",
    "                for pos in bin_prot:\n",
    "                    AA_pos += 1\n",
    "                    if pos == '1':\n",
    "                        merge_list.append(AA_pos)\n",
    "\n",
    "            if prot_dna_rna == 'DNA':\n",
    "                dna = [d for d in i.split('\\n')[4].split(':')[1]]\n",
    "                AA_pos = 0\n",
    "                merge_list = []\n",
    "                for pos in dna:\n",
    "                    AA_pos += 1\n",
    "                    if pos == '1':\n",
    "                        merge_list.append(AA_pos)\n",
    "\n",
    "            if prot_dna_rna == 'RNA':\n",
    "                rna = [r for r in i.split('\\n')[2].split(':')[1]]\n",
    "                AA_pos = 0\n",
    "                merge_list = []\n",
    "                for pos in rna:\n",
    "                    AA_pos += 1\n",
    "                    if pos == '1':\n",
    "                        merge_list.append(AA_pos)\n",
    "\n",
    "\n",
    "            range_dict = {}\n",
    "            ind_range = []\n",
    "            for e in merge_list:\n",
    "                if e + 1 in merge_list or e - 1 in merge_list:\n",
    "                    ind_range.append(e)\n",
    "                    range_dict.update({gene : ind_range})\n",
    "\n",
    "            if range_dict != {}:\n",
    "                for lst in range_dict.values():\n",
    "                    L = lst\n",
    "                    groups = groupby(L, key=lambda item, c=count():item-next(c))\n",
    "                    tmp = [list(g) for k, g in groups]\n",
    "                    for i in tmp:\n",
    "                        gene_lst.append(gene)\n",
    "                        fh.write(gene + tab + str(i[0] - 1)  + tab + str(i[-1]) + tab + prot_dna_rna + newline)\n",
    "    return gene_lst\n",
    "    fh.close()"
   ]
  },
  {
   "cell_type": "code",
   "execution_count": 22,
   "metadata": {
    "collapsed": true
   },
   "outputs": [],
   "source": [
    "# Output from DisoRDPbind\n",
    "fh = open('../data/DisoRDPbind_Results/DisoRDPbind.results.txt', 'r')\n",
    "DisoRDPbind = fh.read()\n",
    "fh.close()\n",
    "\n",
    "# Making BED files of PPI, DPI and RPI\n",
    "for I in ['Protein', 'DNA', 'RNA']:\n",
    "    make_bed_from_disordbind(DisoRDPbind, '../data/DisoRDPbind_Results/DisorDPbind_%s.bed' % I, I)"
   ]
  },
  {
   "cell_type": "markdown",
   "metadata": {},
   "source": [
    "Loading BED files"
   ]
  },
  {
   "cell_type": "code",
   "execution_count": 23,
   "metadata": {
    "collapsed": true
   },
   "outputs": [],
   "source": [
    "Protein = pyb.BedTool('../data/DisoRDPbind_Results/DisorDPbind_Protein.bed')\n",
    "DNA = pyb.BedTool('../data/DisoRDPbind_Results/DisorDPbind_DNA.bed')\n",
    "RNA = pyb.BedTool('../data/DisoRDPbind_Results/DisorDPbind_RNA.bed')\n",
    "\n",
    "cProtein = clean(Protein, 'Protein')\n",
    "cDNA = clean(DNA, 'DNA')\n",
    "cRNA = clean(RNA, 'RNA')"
   ]
  },
  {
   "cell_type": "markdown",
   "metadata": {},
   "source": [
    "## ANCHOR"
   ]
  },
  {
   "cell_type": "markdown",
   "metadata": {},
   "source": [
    "Loading ANCHOR data downloaded from d2p2"
   ]
  },
  {
   "cell_type": "code",
   "execution_count": 24,
   "metadata": {
    "collapsed": true
   },
   "outputs": [],
   "source": [
    "anchor = pd.read_table('../data/anchor.disrange', header = None, names = ['d2p2_ID', 'AA_start', 'AA_stop','N'])"
   ]
  },
  {
   "cell_type": "markdown",
   "metadata": {},
   "source": [
    "Table to map d2p2 IDs with TAIR IDs"
   ]
  },
  {
   "cell_type": "code",
   "execution_count": 27,
   "metadata": {
    "collapsed": true
   },
   "outputs": [],
   "source": [
    "Arab_map = pd.read_table('../data/genomes.protein.at', sep = ' ', header = None, names = ['TAIR_ID', 'd2p2_ID'])\n",
    "Arab_anchor = pd.merge(anchor, Arab_map)"
   ]
  },
  {
   "cell_type": "markdown",
   "metadata": {},
   "source": [
    "Making BED of ANCHOR file"
   ]
  },
  {
   "cell_type": "code",
   "execution_count": 28,
   "metadata": {
    "collapsed": true
   },
   "outputs": [],
   "source": [
    "fh = open('../data/Arab_anchor.bed', 'w')\n",
    "string = ''\n",
    "tab = '\\t'\n",
    "newline = '\\n'\n",
    "for i in Arab_anchor.itertuples():\n",
    "    string += i.TAIR_ID + tab + str(i.AA_start - 1) + tab + str(i.AA_stop) + tab + 'ANCHOR' + newline\n",
    "fh.write(string)\n",
    "fh.close()"
   ]
  },
  {
   "cell_type": "markdown",
   "metadata": {},
   "source": [
    "Loading BED"
   ]
  },
  {
   "cell_type": "code",
   "execution_count": 29,
   "metadata": {
    "collapsed": true
   },
   "outputs": [],
   "source": [
    "Arab_anchor_bed = pyb.BedTool('../data/Arab_anchor.bed')"
   ]
  },
  {
   "cell_type": "code",
   "execution_count": 56,
   "metadata": {
    "collapsed": true
   },
   "outputs": [],
   "source": [
    "cArab_anchor_bed = clean(Arab_anchor_bed, 'Arab_anchor_bed')"
   ]
  },
  {
   "cell_type": "markdown",
   "metadata": {},
   "source": [
    "## DFLpred"
   ]
  },
  {
   "cell_type": "code",
   "execution_count": 30,
   "metadata": {
    "collapsed": true
   },
   "outputs": [],
   "source": [
    "!mkdir ../data/DFLpred_Results/"
   ]
  },
  {
   "cell_type": "markdown",
   "metadata": {},
   "source": [
    "Loading output"
   ]
  },
  {
   "cell_type": "code",
   "execution_count": 31,
   "metadata": {
    "collapsed": true
   },
   "outputs": [],
   "source": [
    "DFLpred = ''\n",
    "for filename in glob.glob('../data/DFLpred_Results/*.DFLpred.results*'):\n",
    "    fh = open(filename, 'r')\n",
    "    DFLpred += fh.read() + '\\n'\n",
    "    fh.close()\n",
    "    \n",
    "fh = open('../data/DFLpred.results.txt', 'w')\n",
    "fh.write(DFLpred)\n",
    "fh.close()\n",
    "\n",
    "fh = open('../data/DFLpred.results.txt', 'r')\n",
    "DFLpred = fh.read()\n",
    "fh.close()"
   ]
  },
  {
   "cell_type": "markdown",
   "metadata": {},
   "source": [
    "Making BED"
   ]
  },
  {
   "cell_type": "code",
   "execution_count": 33,
   "metadata": {
    "collapsed": true
   },
   "outputs": [],
   "source": [
    "def make_bed_from_DFLpred(DFLpred, filename):\n",
    "    gene_lst = []\n",
    "    tab = '\\t'\n",
    "    newline = '\\n'\n",
    "    fh = open(filename, 'w')\n",
    "\n",
    "    for i in DFLpred.split('>'):\n",
    "        if i != '':\n",
    "\n",
    "            gene_part = i.split()[0].replace('__Symbol', '')[:-1]\n",
    "            transcript_n = i.split()[0].replace('__Symbol', '')[-1]\n",
    "\n",
    "            gene = gene_part + '.' + transcript_n\n",
    "\n",
    "            s = i.split('\\n')[2].split(',')\n",
    "\n",
    "            if s[-1] == ',':\n",
    "                s = s[:-1]\n",
    "            if s[-1] == '':\n",
    "                s = s[:-1]\n",
    "            try:\n",
    "                scores = [float(score) for score in s]\n",
    "            except:\n",
    "                print s\n",
    "\n",
    "            AA_pos = 0\n",
    "            merge_list = []\n",
    "            for pos in scores:\n",
    "                AA_pos += 1\n",
    "                if pos > 0.18:\n",
    "                    merge_list.append(AA_pos)\n",
    "\n",
    "\n",
    "\n",
    "            range_dict = {}\n",
    "            ind_range = []\n",
    "            for e in merge_list:\n",
    "                if e + 1 in merge_list or e - 1 in merge_list:\n",
    "                    ind_range.append(e)\n",
    "                    range_dict.update({gene : ind_range})\n",
    "\n",
    "            if range_dict != {}:\n",
    "                for lst in range_dict.values():\n",
    "                    L = lst\n",
    "                    groups = groupby(L, key=lambda item, c=count():item-next(c))\n",
    "                    tmp = [list(g) for k, g in groups]\n",
    "                    for i in tmp:\n",
    "                        gene_lst.append(gene)\n",
    "                        fh.write(gene + tab + str(i[0] - 1)  + tab + str(i[-1]) + tab + 'DFL' + newline)\n",
    "    fh.close()"
   ]
  },
  {
   "cell_type": "code",
   "execution_count": 34,
   "metadata": {
    "collapsed": true
   },
   "outputs": [],
   "source": [
    "make_bed_from_DFLpred(DFLpred, '../data/DFLpred.results.bed')"
   ]
  },
  {
   "cell_type": "code",
   "execution_count": 35,
   "metadata": {
    "collapsed": true
   },
   "outputs": [],
   "source": [
    "DFLpred_bed = pyb.BedTool('../data/DFLpred.results.bed')"
   ]
  },
  {
   "cell_type": "code",
   "execution_count": 36,
   "metadata": {
    "collapsed": true
   },
   "outputs": [],
   "source": [
    "cDFLpred_bed = clean(DFLpred_bed, 'DFLpred')"
   ]
  },
  {
   "cell_type": "markdown",
   "metadata": {},
   "source": [
    "## MoRFpred"
   ]
  },
  {
   "cell_type": "markdown",
   "metadata": {},
   "source": [
    "The server can only take 2000 proteins at the same time"
   ]
  },
  {
   "cell_type": "code",
   "execution_count": 37,
   "metadata": {},
   "outputs": [
    {
     "name": "stdout",
     "output_type": "stream",
     "text": [
      "Wrote 2000 records to ../data/FASTA_SEQUENCES/TAIR10_pep_20101214_2000_1.fasta\n",
      "Wrote 2000 records to ../data/FASTA_SEQUENCES/TAIR10_pep_20101214_2000_2.fasta\n",
      "Wrote 2000 records to ../data/FASTA_SEQUENCES/TAIR10_pep_20101214_2000_3.fasta\n",
      "Wrote 2000 records to ../data/FASTA_SEQUENCES/TAIR10_pep_20101214_2000_4.fasta\n",
      "Wrote 2000 records to ../data/FASTA_SEQUENCES/TAIR10_pep_20101214_2000_5.fasta\n",
      "Wrote 2000 records to ../data/FASTA_SEQUENCES/TAIR10_pep_20101214_2000_6.fasta\n",
      "Wrote 2000 records to ../data/FASTA_SEQUENCES/TAIR10_pep_20101214_2000_7.fasta\n",
      "Wrote 2000 records to ../data/FASTA_SEQUENCES/TAIR10_pep_20101214_2000_8.fasta\n",
      "Wrote 2000 records to ../data/FASTA_SEQUENCES/TAIR10_pep_20101214_2000_9.fasta\n",
      "Wrote 2000 records to ../data/FASTA_SEQUENCES/TAIR10_pep_20101214_2000_10.fasta\n",
      "Wrote 2000 records to ../data/FASTA_SEQUENCES/TAIR10_pep_20101214_2000_11.fasta\n",
      "Wrote 2000 records to ../data/FASTA_SEQUENCES/TAIR10_pep_20101214_2000_12.fasta\n",
      "Wrote 2000 records to ../data/FASTA_SEQUENCES/TAIR10_pep_20101214_2000_13.fasta\n",
      "Wrote 2000 records to ../data/FASTA_SEQUENCES/TAIR10_pep_20101214_2000_14.fasta\n",
      "Wrote 2000 records to ../data/FASTA_SEQUENCES/TAIR10_pep_20101214_2000_15.fasta\n",
      "Wrote 2000 records to ../data/FASTA_SEQUENCES/TAIR10_pep_20101214_2000_16.fasta\n",
      "Wrote 2000 records to ../data/FASTA_SEQUENCES/TAIR10_pep_20101214_2000_17.fasta\n",
      "Wrote 1386 records to ../data/FASTA_SEQUENCES/TAIR10_pep_20101214_2000_18.fasta\n"
     ]
    }
   ],
   "source": [
    "record_iter = SeqIO.parse(open(\"../data/TAIR10_pep_20101214.txt\"),\"fasta\")\n",
    "for i, batch in enumerate(batch_iterator(record_iter, 2000)):\n",
    "    filename = \"../data/FASTA_SEQUENCES/TAIR10_pep_20101214_2000_%i.fasta\" % (i + 1)\n",
    "    with open(filename, \"w\") as handle:\n",
    "        count = SeqIO.write(batch, handle, \"fasta\")\n",
    "    print(\"Wrote %i records to %s\" % (count, filename))"
   ]
  },
  {
   "cell_type": "markdown",
   "metadata": {},
   "source": [
    "Making BED of data"
   ]
  },
  {
   "cell_type": "code",
   "execution_count": 48,
   "metadata": {
    "collapsed": true
   },
   "outputs": [],
   "source": [
    "def make_bed_from_MoRFpred(MoRFpred, filename):\n",
    "    gene_lst = []\n",
    "    tab = '\\t'\n",
    "    newline = '\\n'\n",
    "    fh = open(filename, 'w')\n",
    "\n",
    "    for i in MoRFpred.split('>'):\n",
    "        if i != '':\n",
    "\n",
    "            gene_part = i.split()[0].replace('__Symbol', '').replace('_Symbol', '')[:-1]\n",
    "            transcript_n = i.split()[0].replace('__Symbol', '').replace('_Symbol', '')[-1]\n",
    "\n",
    "            gene = gene_part + '.' + transcript_n\n",
    "            s = i.split('\\n')[3]\n",
    "\n",
    "            if s[-1] == ',':\n",
    "                s = s[:-1]\n",
    "            if s[-1] == '':\n",
    "                s = s[:-1]\n",
    "            try:\n",
    "                scores = [float(score) for score in s]\n",
    "            except:\n",
    "                print s\n",
    "\n",
    "            AA_pos = 0\n",
    "            merge_list = []\n",
    "            for pos in scores:\n",
    "                AA_pos += 1\n",
    "                if pos == 1:\n",
    "                    merge_list.append(AA_pos)\n",
    "\n",
    "\n",
    "\n",
    "            range_dict = {}\n",
    "            ind_range = []\n",
    "            for e in merge_list:\n",
    "                if e + 1 in merge_list or e - 1 in merge_list:\n",
    "                    ind_range.append(e)\n",
    "                    range_dict.update({gene : ind_range})\n",
    "\n",
    "            if range_dict != {}:\n",
    "                for lst in range_dict.values():\n",
    "                    L = lst\n",
    "                    groups = groupby(L, key=lambda item, c=count():item-next(c))\n",
    "                    tmp = [list(g) for k, g in groups]\n",
    "                    for i in tmp:\n",
    "                        gene_lst.append(gene)\n",
    "                        fh.write(gene + tab + str(i[0] - 1)  + tab + str(i[-1]) + tab + 'MoRF' + newline)\n",
    "    fh.close()"
   ]
  },
  {
   "cell_type": "code",
   "execution_count": 39,
   "metadata": {
    "collapsed": true
   },
   "outputs": [],
   "source": [
    "!mkdir ../data/fMoRFpred_Results/"
   ]
  },
  {
   "cell_type": "code",
   "execution_count": 49,
   "metadata": {
    "collapsed": true
   },
   "outputs": [],
   "source": [
    "MoRFpred = ''\n",
    "for filename in glob.glob('../data/fMoRFpred_Results/*.fMoRFpred.results*'):\n",
    "    fh = open(filename, 'r')\n",
    "    MoRFpred += fh.read() + '\\n'\n",
    "    fh.close()"
   ]
  },
  {
   "cell_type": "code",
   "execution_count": 52,
   "metadata": {
    "collapsed": true
   },
   "outputs": [],
   "source": [
    "from itertools import groupby, count"
   ]
  },
  {
   "cell_type": "code",
   "execution_count": 54,
   "metadata": {},
   "outputs": [],
   "source": [
    "make_bed_from_MoRFpred(MoRFpred, '../data/fMoRFpred.results.bed')\n",
    "MoRFpred_bed = pyb.BedTool('../data/fMoRFpred.results.bed')\n",
    "cMoRFpred_bed = clean(MoRFpred_bed, 'MoRFpred')"
   ]
  },
  {
   "cell_type": "markdown",
   "metadata": {},
   "source": [
    "Pickling"
   ]
  },
  {
   "cell_type": "code",
   "execution_count": 57,
   "metadata": {},
   "outputs": [],
   "source": [
    "pickle.dump(cSTRs, open('../data/cSTRs.txt', 'w'))\n",
    "pickle.dump(cProtein, open('../data/cProtein.txt', 'w'))\n",
    "pickle.dump(cDNA, open('../data/cDNA.txt', 'w'))\n",
    "pickle.dump(cRNA, open('../data/cRNA.txt', 'w'))\n",
    "pickle.dump(cArab_anchor_bed, open('../data/cArab_anchor_bed.txt', 'w'))\n",
    "pickle.dump(cDFLpred_bed, open('../data/cDFLpred_bed.txt', 'w'))\n",
    "pickle.dump(cDisorder, open('../data/cDisorder.txt', 'w'))\n",
    "pickle.dump(cMoRFpred_bed, open('../data/cMoRFpred_bed.txt', 'w'))"
   ]
  },
  {
   "cell_type": "code",
   "execution_count": 58,
   "metadata": {
    "collapsed": true
   },
   "outputs": [],
   "source": [
    "cSTRs = pickle.load(open('../data/cSTRs.txt', 'r'))\n",
    "cProtein = pickle.load(open('../data/cProtein.txt', 'r'))\n",
    "cDNA = pickle.load(open('../data/cDNA.txt', 'r'))\n",
    "cRNA = pickle.load(open('../data/cRNA.txt', 'r'))\n",
    "cArab_anchor_bed = pickle.load(open('../data/cArab_anchor_bed.txt', 'r'))\n",
    "cDFLpred_bed = pickle.load(open('../data/cDFLpred_bed.txt', 'r'))\n",
    "cDisorder = pickle.load(open('../data/cDisorder.txt', 'r'))\n",
    "cMoRFpred_bed = pickle.load(open('../data/cMoRFpred_bed.txt', 'r'))"
   ]
  },
  {
   "cell_type": "markdown",
   "metadata": {},
   "source": [
    "### D2P2"
   ]
  },
  {
   "cell_type": "code",
   "execution_count": 18,
   "metadata": {},
   "outputs": [],
   "source": [
    "Disorder = pyb.BedTool('../data/Arab_disorder.bed')\n",
    "cDisorder = clean(Disorder, 'Disorder')"
   ]
  },
  {
   "cell_type": "markdown",
   "metadata": {},
   "source": [
    "Doing stats"
   ]
  },
  {
   "cell_type": "code",
   "execution_count": 59,
   "metadata": {
    "collapsed": true
   },
   "outputs": [],
   "source": [
    "iterations = 1000\n",
    "res_PPI = cSTRs.randomstats(cProtein, iterations, shuffle_kwargs = {'chrom' : True})\n",
    "res_DPI = cSTRs.randomstats(cDNA, iterations, shuffle_kwargs = {'chrom' : True})\n",
    "res_RPI = cSTRs.randomstats(cRNA, iterations, shuffle_kwargs = {'chrom' : True})\n",
    "res_ANCHOR = cSTRs.randomstats(cArab_anchor_bed, iterations, shuffle_kwargs = {'chrom' : True})\n",
    "res_DFL = cSTRs.randomstats(cDFLpred_bed, iterations, shuffle_kwargs = {'chrom' : True})\n",
    "res_Disorder = cSTRs.randomstats(cDisorder, iterations, shuffle_kwargs = {'chrom' : True})\n",
    "res_MoRF = cSTRs.randomstats(cMoRFpred_bed, iterations, shuffle_kwargs = {'chrom' : True})\n",
    "\n",
    "both = cProtein.intersect(cArab_anchor_bed)\n",
    "res_A_P = cSTRs.randomstats(both, iterations, shuffle_kwargs = {'chrom' : True})"
   ]
  },
  {
   "cell_type": "code",
   "execution_count": 60,
   "metadata": {
    "collapsed": true
   },
   "outputs": [],
   "source": [
    "raw_results = []\n",
    "percentiles = []\n",
    "actuals = []\n",
    "for res in [res_PPI, res_MoRF, res_ANCHOR, res_DPI, res_RPI, res_DFL, res_Disorder]:\n",
    "    raw_results.append(res['actual'] / res['median randomized'])\n",
    "    percentiles.append(res['percentile'])\n",
    "    actuals.append(res['actual'])"
   ]
  },
  {
   "cell_type": "markdown",
   "metadata": {},
   "source": [
    "## Supplementary figure 3d. - Distribution of features along proteins"
   ]
  },
  {
   "cell_type": "markdown",
   "metadata": {},
   "source": [
    "Function the get position relative to protein length"
   ]
  },
  {
   "cell_type": "code",
   "execution_count": 177,
   "metadata": {
    "collapsed": true
   },
   "outputs": [],
   "source": [
    "def get_continous_dist(BED, name):\n",
    "    dist = []\n",
    "    for i in BED:\n",
    "        if i[0] in dictionary.keys():\n",
    "            mid = ((float(i[1]) + float(i[2])) / 2)\n",
    "            length = dictionary[i[0]][1]\n",
    "            d = mid / length\n",
    "            if d > 1.0:\n",
    "                print i[0], (float(i[1]), float(i[2])), length\n",
    "            else:\n",
    "                dist.append(d)\n",
    "                \n",
    "    return dist"
   ]
  },
  {
   "cell_type": "markdown",
   "metadata": {},
   "source": [
    "Running function"
   ]
  },
  {
   "cell_type": "code",
   "execution_count": 191,
   "metadata": {
    "collapsed": true
   },
   "outputs": [],
   "source": [
    "fig1 = get_continous_dist(cSTRs, 'STRs')\n",
    "fig2 = get_continous_dist(cProtein, 'Protein interaction sites')\n",
    "fig3 = get_continous_dist(cDNA, 'DNA interaction sites')\n",
    "fig4 = get_continous_dist(cRNA, 'RNA interaction sites')\n",
    "fig5 = get_continous_dist(cArab_anchor_bed, 'ANCHOR sites')\n",
    "fig6 = get_continous_dist(cDFLpred_bed, 'Disordered flexible linkers')\n",
    "fig8 = get_continous_dist(cMoRFpred_bed, 'MoRF')"
   ]
  },
  {
   "cell_type": "markdown",
   "metadata": {},
   "source": [
    "Plotting"
   ]
  },
  {
   "cell_type": "code",
   "execution_count": 193,
   "metadata": {},
   "outputs": [
    {
     "data": {
      "image/png": "[encoded data removed]",
      "text/plain": [
       "<matplotlib.figure.Figure at 0x10ed32110>"
      ]
     },
     "metadata": {},
     "output_type": "display_data"
    }
   ],
   "source": [
    "fig, ax = subplots(figsize = (6,5))\n",
    "lw = 3\n",
    "sns.set_style('white')\n",
    "\n",
    "distplot(fig2, hist = False, kde_kws = {\"color\": \"black\", \"lw\": lw, 'label' : 'DisoRDPbind PPI', 'alpha' : 1})\n",
    "distplot(fig3, hist = False, kde_kws = {\"color\": \"gray\", \"lw\": lw, 'label' : 'DisoRDPbind DPI', 'alpha' : 1})\n",
    "distplot(fig4, hist = False, kde_kws = {\"color\": \"lightgray\", \"lw\": lw, 'label' : 'DisoRDPbind RPI', 'alpha' : 1})\n",
    "distplot(fig5, hist = False, kde_kws = {\"color\": \"green\", \"lw\": lw, 'label' : 'ANCHOR', 'alpha' : 0.5})\n",
    "distplot(fig6, hist = False, kde_kws = {\"color\": \"blue\", \"lw\": lw, 'label' : 'DFLpred', 'alpha' : 0.5})\n",
    "distplot(fig8, hist = False, kde_kws = {\"color\": \"pink\", \"lw\": lw, 'label' : 'MoRF', 'alpha' : 0.7})\n",
    "\n",
    "\n",
    "distplot(fig1, hist = False, kde_kws = {\"color\": \"Orange\", \"lw\": lw, 'label' : 'STRs', 'alpha' : 0.8})\n",
    "\n",
    "for item in ([ax.title, ax.xaxis.label, ax.yaxis.label] + ax.get_xticklabels() + ax.get_yticklabels()):\n",
    "    item.set_fontsize(12)\n",
    "\n",
    "ax.spines[\"top\"].set_visible(False)\n",
    "xlim(0, 1)\n",
    "ylim(0)\n",
    "legend(fontsize = 12)\n",
    "\n",
    "tight_layout()\n",
    "\n",
    "savefig('../Figures/Arabidopsis_Site_Distributions.png', type = 'png', dpi = 500, transparent = True)\n",
    "savefig('../Figures/Arabidopsis_Site_Distributions.pdf', type = 'pdf', transparent = True)\n",
    "\n",
    "show()"
   ]
  },
  {
   "cell_type": "markdown",
   "metadata": {},
   "source": [
    "### Supplementary Figure 3c. Enrichment with disordered binding sites"
   ]
  },
  {
   "cell_type": "code",
   "execution_count": 72,
   "metadata": {},
   "outputs": [
    {
     "data": {
      "image/png": "[encoded data removed]",
      "text/plain": [
       "<matplotlib.figure.Figure at 0x1108d14d0>"
      ]
     },
     "metadata": {},
     "output_type": "display_data"
    }
   ],
   "source": [
    "counter = -1\n",
    "results = []\n",
    "labels = ['DisoRDPbind PPI', 'MoRF', 'ANCHOR', 'DisoRDPbind DPI', 'DisoRDPbind RPI', 'DFLpred', 'Disorder']\n",
    "for res in [res_PPI, res_MoRF, res_ANCHOR, res_DPI, res_RPI, res_DFL]:\n",
    "    r = res['actual'] / res['median randomized']\n",
    "    if r < 1:\n",
    "        r = -(1 - r)\n",
    "    else:\n",
    "        r = r - 1\n",
    "    results.append(r)\n",
    "    \n",
    "f, ax = subplots(figsize = (4,10))\n",
    "rects = ax.bar([0,1,2,3,4,5], results, 0.35, linewidth = 2, edgecolor = 'black', color = ['lightgray', 'gray', 'black', 'white', 'white', 'white', 'white'], alpha = 0.5)\n",
    "\n",
    "for rect in [rects]:\n",
    "    for re in rect:\n",
    "        counter += 1\n",
    "        height = re.get_height()\n",
    "        text = round(raw_results[counter], 2)\n",
    "        actual = actuals[counter]\n",
    "        \n",
    "        if counter in [0,1,3,5,6]:\n",
    "            ax.text(re.get_x() + 0.15, height + 0.05,\n",
    "                    '%s' % text, ha='center', va='bottom', size = 12, color = 'black')\n",
    "        else:\n",
    "            ax.text(re.get_x() + 0.15, height - 0.15,\n",
    "                    '%s' % text, ha='center', va='bottom', size = 12, color = 'black')\n",
    "        if counter in [0,1,3,5,6]:\n",
    "            ax.text(re.get_x() + 0.15, height + 0.1,\n",
    "                    '*', ha='center', va='bottom', size = 20, color = 'black')\n",
    "        if counter in [2]:\n",
    "            ax.text(re.get_x() + 0.15, height - 0.35,\n",
    "                    '*', ha='center', va='bottom', size = 20, color = 'black')\n",
    "\n",
    "ax.spines[\"top\"].set_visible(False)\n",
    "ax.spines[\"bottom\"].set_visible(False)\n",
    "ax.spines[\"left\"].set_visible(False)\n",
    "ax.spines[\"right\"].set_visible(False)\n",
    "ax.axhline(0, linewidth=2, color='Black')\n",
    "ax.set_xticklabels('')\n",
    "ax.set_yticklabels('')\n",
    "ax.xaxis.set_ticks([-2])\n",
    "ax.yaxis.set_ticks([200])\n",
    "\n",
    "\n",
    "ylim(-2.5, 2.5)\n",
    "\n",
    "savefig('../Figures/Arabidopsis_Enrichments.png', type = 'png', dpi = 300, transparent = True)\n",
    "savefig('../Figures/Arabidopsis_Enrichments.pdf', type = 'pdf', transparent = True)\n",
    "\n",
    "show()"
   ]
  },
  {
   "cell_type": "markdown",
   "metadata": {},
   "source": [
    "Overlap between PPI sites"
   ]
  },
  {
   "cell_type": "markdown",
   "metadata": {},
   "source": [
    "### Figure 3.b"
   ]
  },
  {
   "cell_type": "code",
   "execution_count": 73,
   "metadata": {
    "collapsed": true
   },
   "outputs": [],
   "source": [
    "tool1 = cSTRs.intersect(cMoRFpred_bed, wa = True)\n",
    "tool2 = cSTRs.intersect(cProtein, wa = True)\n",
    "tool3 = cSTRs.intersect(cArab_anchor_bed, wa = True)\n",
    "\n",
    "sets = []\n",
    "for tool in [tool1, tool2, tool3]:\n",
    "    sets.append(set([x[0].split('.')[0] + '_' + str(x[1]) + '_' + str(x[2]) for x in tool]))"
   ]
  },
  {
   "cell_type": "code",
   "execution_count": 92,
   "metadata": {},
   "outputs": [
    {
     "data": {
      "image/png": "[encoded data removed]",
      "text/plain": [
       "<matplotlib.figure.Figure at 0x1107e3a50>"
      ]
     },
     "metadata": {},
     "output_type": "display_data"
    }
   ],
   "source": [
    "n = 1\n",
    "\n",
    "f, ax = subplots()\n",
    "v = venn3([sets[0], sets[1], sets[2]], \n",
    "          set_labels = ['MoRFpred', 'DisoRDPbind', 'ANCHOR'],\n",
    "          set_colors = ['Gray', 'LightGray', 'Black'],\n",
    "          normalize_to = n)\n",
    "c = venn3_circles([sets[0], sets[1], sets[2]], \n",
    "                  linestyle='dashed',\n",
    "                  normalize_to = n)\n",
    "\n",
    "for text in v.set_labels:\n",
    "    text.set_fontsize(20)\n",
    "    text.set_visible(False)\n",
    "for text in v.subset_labels:\n",
    "    text.set_fontsize(12)\n",
    "    text.set_visible(False)\n",
    "    \n",
    "f, ax = subplots()\n",
    "v = venn3([sets[0], sets[1], sets[2]], \n",
    "          set_labels = ['MoRFpred', 'DisoRDPbind', 'ANCHOR'],\n",
    "          set_colors = ['Gray', 'LightGray', 'Black'],\n",
    "          normalize_to = n)\n",
    "c = venn3_circles([sets[0], sets[1], sets[2]], \n",
    "                  linestyle='dashed',\n",
    "                  normalize_to = n)\n",
    "\n",
    "savefig('../Figures/VennDiagram3toolsPPI_empty.pdf', format = 'pdf', transparent = True)\n",
    "savefig('../Figures/VennDiagram3toolsPPI_empty.png', format = 'png', transparent = True, dpi = 300)\n",
    "show()\n",
    "\n",
    "\n",
    "#show()"
   ]
  },
  {
   "cell_type": "markdown",
   "metadata": {},
   "source": [
    "## Overlap with UniProt features"
   ]
  },
  {
   "cell_type": "code",
   "execution_count": 94,
   "metadata": {
    "collapsed": true
   },
   "outputs": [],
   "source": [
    "UP_gff = pyb.BedTool('../data/uniprot-organism%3A3702+reviewed%3Ayes+database%3A%28type%3Atair%29.gff')\n",
    "# Downloaded using the Uniprot linked ID service, http://www.uniprot.org/uploadlists/\n",
    "mapper = pd.read_csv('../data/uniprot-arabidopsis.tab', sep = '\\t').dropna()\n",
    "mapper['GENE'] = [i.upper() for i in mapper['Gene names  (ordered locus )'].values]\n",
    "mapper = mapper[['GENE', 'Entry']]\n",
    "mapper = mapper.set_index('Entry')\n",
    "mapper = mapper.to_dict()['GENE']"
   ]
  },
  {
   "cell_type": "markdown",
   "metadata": {},
   "source": [
    "Writing BED file"
   ]
  },
  {
   "cell_type": "code",
   "execution_count": 96,
   "metadata": {
    "collapsed": true
   },
   "outputs": [],
   "source": [
    "tab = '\\t'\n",
    "newline = '\\n'\n",
    "\n",
    "fh = open('../data/Uniprot_gff.bed', 'w')\n",
    "\n",
    "for i in UP_gff:\n",
    "    unip = i[0]\n",
    "    db = i[1]\n",
    "    feat = i[2]\n",
    "    start = str(i[3])\n",
    "    end = str(i[4])\n",
    "    note = i[-2]\n",
    "    tair_id = mapper[i[0]]\n",
    "    fh.write(tair_id + tab + start + tab + end + tab + feat + tab + note + newline)\n",
    "fh.close()\n",
    "\n",
    "Up_feats_bed = pyb.BedTool('../data/Uniprot_gff.bed')"
   ]
  },
  {
   "cell_type": "markdown",
   "metadata": {},
   "source": [
    "Loading STR BED file"
   ]
  },
  {
   "cell_type": "code",
   "execution_count": 127,
   "metadata": {
    "collapsed": true
   },
   "outputs": [],
   "source": [
    "Repeats = pyb.BedTool('../data/TAIR10_cds_20101214_updated.trf.output.BED')"
   ]
  },
  {
   "cell_type": "markdown",
   "metadata": {},
   "source": [
    "Making dictionary of \"chromsizes\" (i.e protein lengths)"
   ]
  },
  {
   "cell_type": "code",
   "execution_count": 100,
   "metadata": {},
   "outputs": [],
   "source": [
    "# Creating ID list first\n",
    "string = ''\n",
    "dictionary = {}\n",
    "for record in SeqIO.parse('../data/uniprot-arabidopsis.fasta', 'fasta'):\n",
    "    try:\n",
    "        up = record.id.split('|')[1]\n",
    "        dictionary.update({mapper[up] : (1, len(record.seq))})\n",
    "    except:\n",
    "        pass"
   ]
  },
  {
   "cell_type": "code",
   "execution_count": 102,
   "metadata": {
    "collapsed": true
   },
   "outputs": [],
   "source": [
    "TAIR10_dictionary = {}\n",
    "for record in SeqIO.parse('../data/TAIR10_coding_sequence_dna.fasta.txt', 'fasta'):\n",
    "    if len(record.seq) > 20:\n",
    "        TAIR10_dictionary.update({record.id : (len(record.seq) / 3) - 1})"
   ]
  },
  {
   "cell_type": "markdown",
   "metadata": {},
   "source": [
    "'prots_to_work_with' should contain proteins of identical length in TAIR10 coding sequence fasta file and that annotated by Uniprot (and also share ID)"
   ]
  },
  {
   "cell_type": "code",
   "execution_count": 104,
   "metadata": {},
   "outputs": [],
   "source": [
    "prots_to_work_with = []\n",
    "\n",
    "for key in TAIR10_dictionary:\n",
    "    if key.split('|')[0] in dictionary.keys():\n",
    "        transcript = key.split('|')[1]\n",
    "        mapz = key.split('|')[0]\n",
    "        if dictionary[mapz][1] != TAIR10_dictionary[key]:\n",
    "            prots_to_work_with.append(transcript)"
   ]
  },
  {
   "cell_type": "markdown",
   "metadata": {},
   "source": [
    "Making a subset of the Uniprot GFF with those proteins"
   ]
  },
  {
   "cell_type": "code",
   "execution_count": 128,
   "metadata": {},
   "outputs": [
    {
     "data": {
      "text/plain": [
       "<BedTool(../data/UP_prots_to_work_with.gff)>"
      ]
     },
     "execution_count": 128,
     "metadata": {},
     "output_type": "execute_result"
    }
   ],
   "source": [
    "subset = Repeats.filter(lambda b:  b.chrom not in prots_to_work_with)\n",
    "subset.saveas('../data/UP_prots_to_work_with.gff')"
   ]
  },
  {
   "cell_type": "code",
   "execution_count": 130,
   "metadata": {},
   "outputs": [],
   "source": [
    "Repeats = pyb.BedTool('../data/UP_prots_to_work_with.gff')"
   ]
  },
  {
   "cell_type": "markdown",
   "metadata": {},
   "source": [
    "Removing '.N'"
   ]
  },
  {
   "cell_type": "code",
   "execution_count": 133,
   "metadata": {},
   "outputs": [],
   "source": [
    "fh = open('../data/UP_prots_to_work_with_cleaned.bed', 'w')\n",
    "for i in Repeats:\n",
    "    fh.write(i[0].split('.')[0] + tab + str(i[1]) + tab + str(i[2]) + tab + 'Repeat' + newline)\n",
    "fh.close()\n",
    "Repeats = pyb.BedTool('../data/UP_prots_to_work_with_cleaned.bed')\n",
    "# Setting protein length sizes\n",
    "Repeats = Repeats.set_chromsizes(dictionary)"
   ]
  },
  {
   "cell_type": "markdown",
   "metadata": {},
   "source": [
    "Loading GFF with CDS"
   ]
  },
  {
   "cell_type": "code",
   "execution_count": 138,
   "metadata": {
    "collapsed": true
   },
   "outputs": [],
   "source": [
    "CDS = pyb.BedTool('../data/TAIR10_GFF3_genes_with_strand.bed.CDS')\n",
    "CDS_starts = []\n",
    "for i in CDS:\n",
    "    CDS_starts.append(int(i[1]))"
   ]
  },
  {
   "cell_type": "markdown",
   "metadata": {},
   "source": [
    "Intersecting"
   ]
  },
  {
   "cell_type": "code",
   "execution_count": 140,
   "metadata": {
    "collapsed": true
   },
   "outputs": [],
   "source": [
    "lst = []\n",
    "for i in Repeats.intersect(Up_feats_bed, wo = True):\n",
    "    lst.append(i[7])"
   ]
  },
  {
   "cell_type": "code",
   "execution_count": 142,
   "metadata": {},
   "outputs": [],
   "source": [
    "def removekey(d, keys):\n",
    "    r = dict(d)\n",
    "    for i in keys:\n",
    "        del r[i]\n",
    "    return r"
   ]
  },
  {
   "cell_type": "code",
   "execution_count": 161,
   "metadata": {},
   "outputs": [],
   "source": [
    "D = Counter(lst)"
   ]
  },
  {
   "cell_type": "code",
   "execution_count": 162,
   "metadata": {
    "collapsed": true
   },
   "outputs": [],
   "source": [
    "for i in D.keys():\n",
    "    subset = Up_feats_bed.filter(lambda b:  b.name == i)\n",
    "    subset.saveas('../data/UP_%s.gff' % i)"
   ]
  },
  {
   "cell_type": "code",
   "execution_count": 163,
   "metadata": {},
   "outputs": [],
   "source": [
    "chain = pyb.BedTool('../data/UP_chain.gff')\n",
    "comp_bias = pyb.BedTool('../data/UP_Compositional bias.gff')\n",
    "Transmembrane = pyb.BedTool('../data/UP_Transmembrane.gff')\n",
    "SignalPep = pyb.BedTool('../data/UP_Signal peptide.gff')\n",
    "Disulfite = pyb.BedTool('../data/UP_Disulfide bond.gff')\n",
    "InitMet = pyb.BedTool('../data/UP_Initiator methionine.gff')\n",
    "TransPep = pyb.BedTool('../data/UP_Transit peptide.gff')\n",
    "ZincFinger = pyb.BedTool('../data/UP_Zinc finger.gff')\n",
    "Rep = pyb.BedTool('../data/UP_Repeat.gff')\n",
    "Glyc = pyb.BedTool('../data/UP_Glycosylation.gff')\n",
    "DNA_bind = pyb.BedTool('../data/UP_DNA binding.gff')\n",
    "NaturalVariant = pyb.BedTool('../data/UP_Natural variant.gff')\n",
    "CoiledCoil = pyb.BedTool('../data/UP_Coiled coil.gff')\n",
    "Lipid = pyb.BedTool('../data/UP_Lipidation.gff')\n",
    "Mutagenesis = pyb.BedTool('../data/UP_Mutagenesis.gff')\n",
    "Region = pyb.BedTool('../data/UP_Region.gff')\n",
    "SeqCon = pyb.BedTool('../data/UP_Sequence conflict.gff')\n",
    "TopDomain = pyb.BedTool('../data/UP_Topological domain.gff')\n",
    "Domain = pyb.BedTool('../data/UP_Domain.gff')\n",
    "Motif = pyb.BedTool('../data/UP_Motif.gff')\n",
    "CrossLink = pyb.BedTool('../data/UP_Cross-link.gff')\n",
    "Propeptide = pyb.BedTool('../data/UP_Propeptide.gff')\n",
    "AltSeq = pyb.BedTool('../data/UP_Alternative sequence.gff')\n",
    "BetaStrand = pyb.BedTool('../data/UP_Beta strand.gff')"
   ]
  },
  {
   "cell_type": "code",
   "execution_count": 164,
   "metadata": {},
   "outputs": [
    {
     "data": {
      "text/plain": [
       "Counter({u'Alternative sequence': 65,\n",
       "         u'Beta strand': 1,\n",
       "         u'Chain': 1694,\n",
       "         u'Coiled coil': 43,\n",
       "         u'Compositional bias': 1185,\n",
       "         u'Cross-link': 1,\n",
       "         u'DNA binding': 4,\n",
       "         u'Disulfide bond': 6,\n",
       "         u'Domain': 57,\n",
       "         u'Glycosylation': 2,\n",
       "         u'Initiator methionine': 2,\n",
       "         u'Lipidation': 1,\n",
       "         u'Modified residue': 4,\n",
       "         u'Motif': 11,\n",
       "         u'Mutagenesis': 1,\n",
       "         u'Natural variant': 13,\n",
       "         u'Propeptide': 8,\n",
       "         u'Region': 29,\n",
       "         u'Repeat': 12,\n",
       "         u'Sequence conflict': 93,\n",
       "         u'Signal peptide': 50,\n",
       "         u'Topological domain': 109,\n",
       "         u'Transit peptide': 62,\n",
       "         u'Transmembrane': 24,\n",
       "         u'Zinc finger': 5})"
      ]
     },
     "execution_count": 164,
     "metadata": {},
     "output_type": "execute_result"
    }
   ],
   "source": [
    "D"
   ]
  },
  {
   "cell_type": "code",
   "execution_count": 165,
   "metadata": {},
   "outputs": [],
   "source": [
    "D = removekey(D, ['Chain', 'Compositional bias', 'Mutagenesis', 'Sequence conflict', 'Alternative sequence', 'Natural variant'])"
   ]
  },
  {
   "cell_type": "code",
   "execution_count": 166,
   "metadata": {},
   "outputs": [
    {
     "data": {
      "text/plain": [
       "{u'Beta strand': 1,\n",
       " u'Coiled coil': 43,\n",
       " u'Cross-link': 1,\n",
       " u'DNA binding': 4,\n",
       " u'Disulfide bond': 6,\n",
       " u'Domain': 57,\n",
       " u'Glycosylation': 2,\n",
       " u'Initiator methionine': 2,\n",
       " u'Lipidation': 1,\n",
       " u'Modified residue': 4,\n",
       " u'Motif': 11,\n",
       " u'Propeptide': 8,\n",
       " u'Region': 29,\n",
       " u'Repeat': 12,\n",
       " u'Signal peptide': 50,\n",
       " u'Topological domain': 109,\n",
       " u'Transit peptide': 62,\n",
       " u'Transmembrane': 24,\n",
       " u'Zinc finger': 5}"
      ]
     },
     "execution_count": 166,
     "metadata": {},
     "output_type": "execute_result"
    }
   ],
   "source": [
    "D"
   ]
  },
  {
   "cell_type": "code",
   "execution_count": 167,
   "metadata": {},
   "outputs": [
    {
     "data": {
      "image/png": "[encoded data removed]",
      "text/plain": [
       "<matplotlib.figure.Figure at 0x10f9ceed0>"
      ]
     },
     "metadata": {},
     "output_type": "display_data"
    }
   ],
   "source": [
    "import seaborn as sns\n",
    "sns.set_style('white')\n",
    "sns.palplot(sns.color_palette(\"deep\", 18))\n",
    "show()"
   ]
  },
  {
   "cell_type": "code",
   "execution_count": 168,
   "metadata": {},
   "outputs": [
    {
     "data": {
      "image/png": "[encoded data removed]",
      "text/plain": [
       "<matplotlib.figure.Figure at 0x10f952b10>"
      ]
     },
     "metadata": {},
     "output_type": "display_data"
    }
   ],
   "source": [
    "fix, ax = subplots(figsize = (10,3))\n",
    "bar(range(len(D)), D.values(), align = 'center', color = ['black', 'black', 'Gray', 'Red', 'Blue', 'Yellow', 'Black',\n",
    "                                                          'black', 'Green', 'Pink', 'black', 'black', 'Orange', 'black',\n",
    "                                                          'black', 'black', 'black', 'black'])\n",
    "xticks(range(len(D)), D.keys())\n",
    "xticks(rotation = 90)\n",
    "yticks(rotation = 90)\n",
    "ylim(0,)\n",
    "show()"
   ]
  },
  {
   "cell_type": "code",
   "execution_count": 170,
   "metadata": {
    "collapsed": true
   },
   "outputs": [],
   "source": [
    "def intersect_clean_and_plot(a,b, color, name):\n",
    "    tab = '\\t'\n",
    "    newline = '\\n'\n",
    "    \n",
    "    # Getting info from 'Note'\n",
    "    \n",
    "    fh = open('../data/notes_bed', 'w')\n",
    "    for i in b:\n",
    "        if i[4] != '.':\n",
    "            note = i[4].split('=')[1].split(';')[0]\n",
    "            fh.write(i[0] + tab + i[1] + tab + i[2] + tab + note + newline)\n",
    "        else:\n",
    "            fh.write(i[0] + tab + i[1] + tab + i[2] + tab + i[3] + newline)\n",
    "    fh.close()\n",
    "    \n",
    "    b = pyb.BedTool('../data/notes_bed')\n",
    "    \n",
    "    intersect = a.intersect(b, wo = True)\n",
    "\n",
    "    uniq_lines = []\n",
    "    for i in set(list(str(intersect).split('\\n'))):\n",
    "        if i != '':\n",
    "            uniq_lines.append(i)\n",
    "\n",
    "    feats = []\n",
    "    for i in uniq_lines:\n",
    "        #print i.split('\\t')[0]\n",
    "        try:\n",
    "            feats.append(i.split('\\t')[-2])\n",
    "        except:\n",
    "            pass\n",
    "\n",
    "    feats = [w.replace('Helical%3B Name%3D6', 'Helical') for w in feats]\n",
    "    feats = [w.replace('Helical%3B Signal-anchor for type II membrane protein', 'Helical; Signal-anchor for type II membrane protein') for w in feats]\n",
    "    feats = [w.replace('Nuclear localization signal 1', 'Nuclear localization signal') for w in feats]\n",
    "    feats = [w.replace('Protein kinase', 'Protein kinase domain') for w in feats]\n",
    "\n",
    "    #print feats\n",
    "    D = Counter(feats)\n",
    "\n",
    "    bar(range(len(D)), D.values(), align = 'center', color = color, edgecolor = 'Black')\n",
    "    xticks(range(len(D)), D.keys())\n",
    "    xticks(rotation = 90)\n",
    "    yticks(rotation = 90)\n",
    "    #ylim(0,200)\n",
    "    #print intersect\n",
    "    savefig('../Figures/%s.pdf' % name, type = 'pdf', transparent = True)\n",
    "    savefig('../Figures/%s.png' % name, type = 'png', transparent = True, dpi = 300)\n",
    "    show()"
   ]
  },
  {
   "cell_type": "markdown",
   "metadata": {},
   "source": [
    "## Supplementary Figure 3a."
   ]
  },
  {
   "cell_type": "code",
   "execution_count": 171,
   "metadata": {},
   "outputs": [
    {
     "data": {
      "image/png": "[encoded data removed]",
      "text/plain": [
       "<matplotlib.figure.Figure at 0x112c95390>"
      ]
     },
     "metadata": {},
     "output_type": "display_data"
    }
   ],
   "source": [
    "fig, ax = subplots(figsize = (10,12))\n",
    "gcf().subplots_adjust(bottom=0.8)\n",
    "ax.spines[\"top\"].set_visible(False)\n",
    "ax.spines[\"right\"].set_visible(False)\n",
    "intersect_clean_and_plot(Repeats, Domain, 'Gray', 'Domain')"
   ]
  },
  {
   "cell_type": "markdown",
   "metadata": {},
   "source": [
    "Doing stats for each feature"
   ]
  },
  {
   "cell_type": "code",
   "execution_count": 172,
   "metadata": {
    "collapsed": true
   },
   "outputs": [],
   "source": [
    "features = [chain, comp_bias, Transmembrane, SignalPep, Disulfite, InitMet, TransPep, ZincFinger,\n",
    "            Rep, Glyc, DNA_bind, NaturalVariant, CoiledCoil, Lipid, Mutagenesis, Region, SeqCon,\n",
    "            TopDomain, Domain, Motif, CrossLink, Propeptide, AltSeq, BetaStrand]"
   ]
  },
  {
   "cell_type": "code",
   "execution_count": null,
   "metadata": {
    "collapsed": true
   },
   "outputs": [],
   "source": [
    "for feat in features:\n",
    "    print Repeats.randomstats(feat, 1000)"
   ]
  },
  {
   "cell_type": "markdown",
   "metadata": {},
   "source": [
    "Saving results in dictionaries"
   ]
  },
  {
   "cell_type": "code",
   "execution_count": 173,
   "metadata": {
    "collapsed": true
   },
   "outputs": [],
   "source": [
    "a = {'frac randomized below actual': 0.0, '../analysis/UniProt_overlap/UP_prots_to_work_with_cleaned.bed': 4471, 'percentile': 0.0, 'normalized': 0.48113682092555332, 'iterations': 1000, 'median randomized': 3976.0, 'file_a': '../analysis/UniProt_overlap/UP_prots_to_work_with_cleaned.bed', 'file_b': '../analysis/UniProt_overlap/UP_chain.gff', 'actual': 1913, 'lower_2.5th': 3933.0, 'self': 4471, 'upper_97.5th': 4017.0, 'other': 14116, 'frac randomized above actual': 1.0, '../analysis/UniProt_overlap/UP_chain.gff': 14116}\n",
    "b = {'frac randomized below actual': 1.0, '../analysis/UniProt_overlap/UP_prots_to_work_with_cleaned.bed': 4471, 'percentile': 100.0, 'normalized': 10.916666666666666, 'iterations': 1000, 'median randomized': 120.0, 'file_a': '../analysis/UniProt_overlap/UP_prots_to_work_with_cleaned.bed', 'file_b': '../analysis/UniProt_overlap/UP_Compositional bias.gff', 'actual': 1310, 'upper_97.5th': 143.0, 'self': 4471, 'other': 4458, 'frac randomized above actual': 0.0, 'lower_2.5th': 98.0, '../analysis/UniProt_overlap/UP_Compositional bias.gff': 4458}\n",
    "c = {'frac randomized below actual': 0.0, '../analysis/UniProt_overlap/UP_prots_to_work_with_cleaned.bed': 4471, 'percentile': 0.0, 'normalized': 0.096000000000000002, 'iterations': 1000, 'median randomized': 250.0, '../analysis/UniProt_overlap/UP_Transmembrane.gff': 14722, 'file_a': '../analysis/UniProt_overlap/UP_prots_to_work_with_cleaned.bed', 'file_b': '../analysis/UniProt_overlap/UP_Transmembrane.gff', 'actual': 24, 'upper_97.5th': 280.0, 'self': 4471, 'other': 14722, 'frac randomized above actual': 1.0, 'lower_2.5th': 221.0}\n",
    "d = {'frac randomized below actual': 1.0, '../analysis/UniProt_overlap/UP_prots_to_work_with_cleaned.bed': 4471, 'percentile': 100.0, 'normalized': 1.5, 'iterations': 1000, 'median randomized': 34.0, 'file_a': '../analysis/UniProt_overlap/UP_prots_to_work_with_cleaned.bed', 'file_b': '../analysis/UniProt_overlap/UP_Signal peptide.gff', 'actual': 51, 'upper_97.5th': 45.0, 'self': 4471, 'other': 2114, 'frac randomized above actual': 0.0, '../analysis/UniProt_overlap/UP_Signal peptide.gff': 2114, 'lower_2.5th': 23.0}\n",
    "e = {'frac randomized below actual': 0.0, '../analysis/UniProt_overlap/UP_prots_to_work_with_cleaned.bed': 4471, 'percentile': 0.0, 'normalized': 0.072727272727272724, 'iterations': 1000, 'median randomized': 55.0, 'file_a': '../analysis/UniProt_overlap/UP_prots_to_work_with_cleaned.bed', 'file_b': '../analysis/UniProt_overlap/UP_Disulfide bond.gff', 'actual': 4, 'upper_97.5th': 69.0, '../analysis/UniProt_overlap/UP_Disulfide bond.gff': 2862, 'other': 2862, 'frac randomized above actual': 1.0, 'lower_2.5th': 41.0, 'self': 4471}\n",
    "f = {'frac randomized below actual': 0.76200000000000001, '../analysis/UniProt_overlap/UP_prots_to_work_with_cleaned.bed': 4471, 'percentile': 84.799999999999997, 'normalized': 2.0, 'iterations': 1000, 'median randomized': 1.0, 'file_a': '../analysis/UniProt_overlap/UP_prots_to_work_with_cleaned.bed', 'file_b': '../analysis/UniProt_overlap/UP_Initiator methionine.gff', 'actual': 2, 'upper_97.5th': 3.0, 'self': 4471, 'other': 702, 'frac randomized above actual': 0.067000000000000004, '../analysis/UniProt_overlap/UP_Initiator methionine.gff': 702, 'lower_2.5th': 0.0}\n",
    "g = {'../analysis/UniProt_overlap/UP_Transit peptide.gff': 1594, 'frac randomized below actual': 0.99099999999999999, '../analysis/UniProt_overlap/UP_prots_to_work_with_cleaned.bed': 4471, 'percentile': 99.099999999999994, 'normalized': 1.3269230769230769, 'iterations': 1000, 'median randomized': 52.0, 'file_a': '../analysis/UniProt_overlap/UP_prots_to_work_with_cleaned.bed', 'file_b': '../analysis/UniProt_overlap/UP_Transit peptide.gff', 'actual': 69, 'upper_97.5th': 66.0, 'self': 4471, 'other': 1594, 'frac randomized above actual': 0.0089999999999999993, 'lower_2.5th': 39.0}\n",
    "h = {'frac randomized below actual': 0.0, '../analysis/UniProt_overlap/UP_prots_to_work_with_cleaned.bed': 4471, 'percentile': 0.0, 'normalized': 0.15625, 'iterations': 1000, 'median randomized': 32.0, 'file_a': '../analysis/UniProt_overlap/UP_prots_to_work_with_cleaned.bed', 'file_b': '../analysis/UniProt_overlap/UP_Zinc finger.gff', 'actual': 5, 'upper_97.5th': 43.0, 'self': 4471, '../analysis/UniProt_overlap/UP_Zinc finger.gff': 1099, 'other': 1099, 'frac randomized above actual': 1.0, 'lower_2.5th': 21.0}\n",
    "i = {'frac randomized below actual': 0.0, '../analysis/UniProt_overlap/UP_prots_to_work_with_cleaned.bed': 4471, '../analysis/UniProt_overlap/UP_Repeat.gff': 13383, 'percentile': 0.0, 'normalized': 0.034364261168384883, 'iterations': 1000, 'median randomized': 291.0, 'file_a': '../analysis/UniProt_overlap/UP_prots_to_work_with_cleaned.bed', 'file_b': '../analysis/UniProt_overlap/UP_Repeat.gff', 'actual': 10, 'upper_97.5th': 325.0, 'self': 4471, 'other': 13383, 'frac randomized above actual': 1.0, 'lower_2.5th': 258.0}\n",
    "j = {'frac randomized below actual': 0.0, '../analysis/UniProt_overlap/UP_prots_to_work_with_cleaned.bed': 4471, 'percentile': 0.0, 'normalized': 0.04878048780487805, 'iterations': 1000, 'median randomized': 41.0, 'file_a': '../analysis/UniProt_overlap/UP_prots_to_work_with_cleaned.bed', 'file_b': '../analysis/UniProt_overlap/UP_Glycosylation.gff', 'actual': 2, 'upper_97.5th': 53.0, 'self': 4471, '../analysis/UniProt_overlap/UP_Glycosylation.gff': 7360, 'other': 7360, 'frac randomized above actual': 1.0, 'lower_2.5th': 28.0}\n",
    "k = {'frac randomized below actual': 0.0, '../analysis/UniProt_overlap/UP_prots_to_work_with_cleaned.bed': 4471, 'percentile': 0.0, 'normalized': 0.12820512820512819, 'iterations': 1000, 'median randomized': 39.0, '../analysis/UniProt_overlap/UP_DNA binding.gff': 975, 'file_a': '../analysis/UniProt_overlap/UP_prots_to_work_with_cleaned.bed', 'file_b': '../analysis/UniProt_overlap/UP_DNA binding.gff', 'actual': 5, 'upper_97.5th': 52.0, 'self': 4471, 'other': 975, 'frac randomized above actual': 1.0, 'lower_2.5th': 27.0}\n",
    "l = {'frac randomized below actual': 0.98299999999999998, '../analysis/UniProt_overlap/UP_prots_to_work_with_cleaned.bed': 4471, 'percentile': 98.75, 'normalized': 2.5, 'iterations': 1000, 'median randomized': 4.0, 'file_a': '../analysis/UniProt_overlap/UP_prots_to_work_with_cleaned.bed', 'file_b': '../analysis/UniProt_overlap/UP_Natural variant.gff', '../analysis/UniProt_overlap/UP_Natural variant.gff': 765, 'actual': 10, 'upper_97.5th': 9.0, 'self': 4471, 'other': 765, 'frac randomized above actual': 0.0089999999999999993, 'lower_2.5th': 1.0}\n",
    "m = {'../analysis/UniProt_overlap/UP_Coiled coil.gff': 1346, 'frac randomized below actual': 0.0089999999999999993, '../analysis/UniProt_overlap/UP_prots_to_work_with_cleaned.bed': 4471, 'percentile': 1.0999999999999999, 'normalized': 0.7384615384615385, 'iterations': 1000, 'median randomized': 65.0, 'file_a': '../analysis/UniProt_overlap/UP_prots_to_work_with_cleaned.bed', 'file_b': '../analysis/UniProt_overlap/UP_Coiled coil.gff', 'actual': 48, 'upper_97.5th': 81.0, 'self': 4471, 'other': 1346, 'frac randomized above actual': 0.98799999999999999, 'lower_2.5th': 50.0}\n",
    "n = {'frac randomized below actual': 0.26000000000000001, '../analysis/UniProt_overlap/UP_Lipidation.gff': 470, '../analysis/UniProt_overlap/UP_prots_to_work_with_cleaned.bed': 4471, 'percentile': 42.549999999999997, 'normalized': 1.0, 'iterations': 1000, 'median randomized': 1.0, 'file_a': '../analysis/UniProt_overlap/UP_prots_to_work_with_cleaned.bed', 'file_b': '../analysis/UniProt_overlap/UP_Lipidation.gff', 'actual': 1, 'upper_97.5th': 4.0, 'self': 4471, 'other': 470, 'frac randomized above actual': 0.40999999999999998, 'lower_2.5th': 0.0}\n",
    "o = {'frac randomized below actual': 0.0, '../analysis/UniProt_overlap/UP_prots_to_work_with_cleaned.bed': 4471, 'percentile': 0.0, 'normalized': 0.050000000000000003, 'iterations': 1000, 'median randomized': 20.0, 'file_a': '../analysis/UniProt_overlap/UP_prots_to_work_with_cleaned.bed', 'file_b': '../analysis/UniProt_overlap/UP_Mutagenesis.gff', 'actual': 1, 'upper_97.5th': 29.0, 'self': 4471, 'other': 4240, 'frac randomized above actual': 1.0, '../analysis/UniProt_overlap/UP_Mutagenesis.gff': 4240, 'lower_2.5th': 13.0}\n",
    "p = {'frac randomized below actual': 0.0, '../analysis/UniProt_overlap/UP_prots_to_work_with_cleaned.bed': 4471, '../analysis/UniProt_overlap/UP_Region.gff': 3594, 'percentile': 0.0, 'normalized': 0.22480620155038761, 'iterations': 1000, 'median randomized': 129.0, 'file_a': '../analysis/UniProt_overlap/UP_prots_to_work_with_cleaned.bed', 'file_b': '../analysis/UniProt_overlap/UP_Region.gff', 'actual': 29, 'upper_97.5th': 154.0, 'self': 4471, 'other': 3594, 'frac randomized above actual': 1.0, 'lower_2.5th': 107.0}\n",
    "q = {'frac randomized below actual': 1.0, '../analysis/UniProt_overlap/UP_prots_to_work_with_cleaned.bed': 4471, 'percentile': 100.0, 'normalized': 1.8085106382978724, 'iterations': 1000, 'median randomized': 47.0, '../analysis/UniProt_overlap/UP_Sequence conflict.gff': 9610, 'file_b': '../analysis/UniProt_overlap/UP_Sequence conflict.gff', 'actual': 85, 'file_a': '../analysis/UniProt_overlap/UP_prots_to_work_with_cleaned.bed', 'self': 4471, 'upper_97.5th': 60.0, 'other': 9610, 'frac randomized above actual': 0.0, 'lower_2.5th': 34.0}\n",
    "r = {'../analysis/UniProt_overlap/UP_Topological domain.gff': 5982, 'frac randomized below actual': 0.0, '../analysis/UniProt_overlap/UP_prots_to_work_with_cleaned.bed': 4471, 'percentile': 0.0, 'normalized': 0.32581453634085211, 'iterations': 1000, 'median randomized': 399.0, 'file_a': '../analysis/UniProt_overlap/UP_prots_to_work_with_cleaned.bed', 'file_b': '../analysis/UniProt_overlap/UP_Topological domain.gff', 'actual': 130, 'upper_97.5th': 438.0, 'self': 4471, 'other': 5982, 'frac randomized above actual': 1.0, 'lower_2.5th': 362.0}\n",
    "s = {'frac randomized below actual': 0.0, '../analysis/UniProt_overlap/UP_prots_to_work_with_cleaned.bed': 4471, 'percentile': 0.0, 'normalized': 0.089333333333333334, 'iterations': 1000, 'median randomized': 750.0, 'file_a': '../analysis/UniProt_overlap/UP_prots_to_work_with_cleaned.bed', 'file_b': '../analysis/UniProt_overlap/UP_Domain.gff', 'actual': 67, 'upper_97.5th': 801.04999999999995, '../analysis/UniProt_overlap/UP_Domain.gff': 8505, 'other': 8505, 'frac randomized above actual': 1.0, 'lower_2.5th': 701.0, 'self': 4471}\n",
    "t = {'frac randomized below actual': 0.29599999999999999, '../analysis/UniProt_overlap/UP_Motif.gff': 1804, '../analysis/UniProt_overlap/UP_prots_to_work_with_cleaned.bed': 4471, 'percentile': 33.350000000000001, 'normalized': 0.875, 'iterations': 1000, 'median randomized': 16.0, 'file_a': '../analysis/UniProt_overlap/UP_prots_to_work_with_cleaned.bed', 'file_b': '../analysis/UniProt_overlap/UP_Motif.gff', 'actual': 14, 'upper_97.5th': 23.0, 'self': 4471, 'other': 1804, 'frac randomized above actual': 0.63, 'lower_2.5th': 8.0}\n",
    "u = {'frac randomized below actual': 0.40500000000000003, '../analysis/UniProt_overlap/UP_prots_to_work_with_cleaned.bed': 4471, 'percentile': 59.199999999999996, 'normalized': 1.0, 'iterations': 1000, '../analysis/UniProt_overlap/UP_Cross-link.gff': 170, 'median randomized': 1.0, 'file_a': '../analysis/UniProt_overlap/UP_prots_to_work_with_cleaned.bed', 'file_b': '../analysis/UniProt_overlap/UP_Cross-link.gff', 'actual': 1, 'upper_97.5th': 3.0, 'self': 4471, 'other': 170, 'frac randomized above actual': 0.222, 'lower_2.5th': 0.0}"
   ]
  },
  {
   "cell_type": "code",
   "execution_count": 174,
   "metadata": {},
   "outputs": [
    {
     "name": "stdout",
     "output_type": "stream",
     "text": [
      "Transmembrane 0.0\n",
      "Signal peptide 100.0\n",
      "Transit peptide 99.1\n",
      "Zinc finger 0.0\n",
      "Repeat 0.0\n",
      "DNA binding 0.0\n",
      "Coiled coil 1.1\n",
      "Domain 0.0\n",
      "Motif 33.35\n"
     ]
    }
   ],
   "source": [
    "Up_dict = {}\n",
    "for res in [a, b, c, d, e, f,g,h,i,j,k,l,m,n,o,p,q,r,s,t,u]:\n",
    "    feat = res['file_b'].split('_')[2].split('.')[0]\n",
    "    if feat not in ['chain', 'Topological domain', 'Sequence conflict', 'Region', 'Mutagenesis', 'Lipidation',\n",
    "                    'Initiator methionine', 'Glycosylation', 'Disulfide bond', 'Cross-link', \n",
    "                    'Compositional bias', 'Natural variant']:\n",
    "        print feat, res['percentile']\n",
    "        Up_dict.update({feat : res['actual'] / res['median randomized']})"
   ]
  },
  {
   "cell_type": "markdown",
   "metadata": {},
   "source": [
    "## Supplementary Figure 3b."
   ]
  },
  {
   "cell_type": "code",
   "execution_count": 176,
   "metadata": {},
   "outputs": [
    {
     "data": {
      "image/png": "[encoded data removed]",
      "text/plain": [
       "<matplotlib.figure.Figure at 0x10f95d790>"
      ]
     },
     "metadata": {},
     "output_type": "display_data"
    }
   ],
   "source": [
    "D = Up_dict\n",
    "D = removekey(D, ['Coiled coil', 'Zinc finger', 'Repeat', 'Motif', 'DNA binding', 'Transmembrane'])\n",
    "fix, ax = subplots(figsize = (5,4))\n",
    "bar(range(len(D)), D.values(), align = 'center', color = 'Gray', edgecolor = 'Black')\n",
    "axhline(1, color = 'orange', ls = 'dashed')\n",
    "xticks(range(len(D)), D.keys())\n",
    "\n",
    "rects = ax.patches\n",
    "labels = ['*', '*', '*']\n",
    "\n",
    "for rect, label in zip(rects, labels):\n",
    "    height = rect.get_height()\n",
    "    ax.text(rect.get_x() + rect.get_width()/2, height, label, ha='center', va='bottom')\n",
    "\n",
    "ylim(0, 2)\n",
    "gcf().subplots_adjust(bottom=0.5)\n",
    "savefig('../Figures/Enrinchment_UniProt_features.pdf', type = 'pdf', transparent = True)\n",
    "savefig('../Figures/Enrinchment_UniProt_features.png', type = 'png', transparent = True, dpi = 300)\n",
    "\n",
    "\n",
    "show()"
   ]
  }
 ],
 "metadata": {
  "kernelspec": {
   "display_name": "Python [conda root]",
   "language": "python",
   "name": "conda-root-py"
  },
  "language_info": {
   "codemirror_mode": {
    "name": "ipython",
    "version": 2
   },
   "file_extension": ".py",
   "mimetype": "text/x-python",
   "name": "python",
   "nbconvert_exporter": "python",
   "pygments_lexer": "ipython2",
   "version": "2.7.13"
  }
 },
 "nbformat": 4,
 "nbformat_minor": 2
}

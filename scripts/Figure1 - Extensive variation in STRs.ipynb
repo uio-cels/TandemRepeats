{
 "cells": [
  {
   "cell_type": "code",
   "execution_count": 1,
   "metadata": {
    "collapsed": true,
    "extensions": {
     "jupyter_dashboards": {
      "version": 1,
      "views": {
       "grid_default": {
        "hidden": true
       },
       "report_default": {
        "hidden": false
       }
      }
     }
    }
   },
   "outputs": [],
   "source": [
    "import pandas as pd\n",
    "import numpy as np\n",
    "from pylab import *\n",
    "import seaborn as sns\n",
    "sns.set_style('white')\n",
    "import pickle\n",
    "from collections import Counter\n",
    "from Bio import SeqIO\n",
    "\n",
    "from matplotlib import rc\n",
    "rc('font',**{'family':'sans-serif','sans-serif':['Helvetica']})"
   ]
  },
  {
   "cell_type": "markdown",
   "metadata": {},
   "source": [
    "### SNPs"
   ]
  },
  {
   "cell_type": "markdown",
   "metadata": {},
   "source": [
    "Frequency data downloaded from 1001 genome consortium:\n",
    "\n",
    "http://1001genomes.org/data/GMI-MPI/releases/v3.1/1001genomes_snpeff_v3.1/1001genomes_snp-short-indel_only_ACGTN_v3.1.vcf.snpeff.frq"
   ]
  },
  {
   "cell_type": "markdown",
   "metadata": {},
   "source": [
    "Loading data"
   ]
  },
  {
   "cell_type": "code",
   "execution_count": 2,
   "metadata": {},
   "outputs": [],
   "source": [
    "freq_data_SNPs = '../data/1001genomes_snp-short-indel_only_ACGTN_v3.1.vcf.snpeff.frq'\n",
    "\n",
    "my_cols = ['CHROM', 'POS', 'N_ALLELES', 'N_CHR', 'A1', 'A2', 'A3', 'A4']\n",
    "data = pd.read_table(freq_data_SNPs, names=my_cols, skiprows=1)"
   ]
  },
  {
   "cell_type": "markdown",
   "metadata": {},
   "source": [
    "Getting major allele frequencies"
   ]
  },
  {
   "cell_type": "code",
   "execution_count": 3,
   "metadata": {},
   "outputs": [
    {
     "ename": "KeyboardInterrupt",
     "evalue": "",
     "output_type": "error",
     "traceback": [
      "\u001b[0;31m---------------------------------------------------------------------------\u001b[0m",
      "\u001b[0;31mKeyboardInterrupt\u001b[0m                         Traceback (most recent call last)",
      "\u001b[0;32m<ipython-input-3-8d788b77a34b>\u001b[0m in \u001b[0;36m<module>\u001b[0;34m()\u001b[0m\n\u001b[1;32m      6\u001b[0m     \u001b[0mlens\u001b[0m \u001b[0;34m=\u001b[0m \u001b[0;34m[\u001b[0m\u001b[0;34m]\u001b[0m\u001b[0;34m\u001b[0m\u001b[0m\n\u001b[1;32m      7\u001b[0m     \u001b[0mafs\u001b[0m \u001b[0;34m=\u001b[0m \u001b[0;34m[\u001b[0m\u001b[0;34m]\u001b[0m\u001b[0;34m\u001b[0m\u001b[0m\n\u001b[0;32m----> 8\u001b[0;31m     \u001b[0;32mfor\u001b[0m \u001b[0mA\u001b[0m \u001b[0;32min\u001b[0m \u001b[0;34m(\u001b[0m\u001b[0mrow\u001b[0m\u001b[0;34m.\u001b[0m\u001b[0mA1\u001b[0m\u001b[0;34m,\u001b[0m \u001b[0mrow\u001b[0m\u001b[0;34m.\u001b[0m\u001b[0mA2\u001b[0m\u001b[0;34m,\u001b[0m \u001b[0mrow\u001b[0m\u001b[0;34m.\u001b[0m\u001b[0mA3\u001b[0m\u001b[0;34m,\u001b[0m \u001b[0mrow\u001b[0m\u001b[0;34m.\u001b[0m\u001b[0mA4\u001b[0m\u001b[0;34m)\u001b[0m\u001b[0;34m:\u001b[0m\u001b[0;34m\u001b[0m\u001b[0m\n\u001b[0m\u001b[1;32m      9\u001b[0m         \u001b[0;32mif\u001b[0m \u001b[0mstr\u001b[0m\u001b[0;34m(\u001b[0m\u001b[0mA\u001b[0m\u001b[0;34m)\u001b[0m \u001b[0;34m!=\u001b[0m \u001b[0;34m'nan'\u001b[0m\u001b[0;34m:\u001b[0m\u001b[0;34m\u001b[0m\u001b[0m\n\u001b[1;32m     10\u001b[0m             \u001b[0mlens\u001b[0m\u001b[0;34m.\u001b[0m\u001b[0mappend\u001b[0m\u001b[0;34m(\u001b[0m\u001b[0mlen\u001b[0m\u001b[0;34m(\u001b[0m\u001b[0mA\u001b[0m\u001b[0;34m.\u001b[0m\u001b[0msplit\u001b[0m\u001b[0;34m(\u001b[0m\u001b[0;34m':'\u001b[0m\u001b[0;34m)\u001b[0m\u001b[0;34m[\u001b[0m\u001b[0;36m0\u001b[0m\u001b[0;34m]\u001b[0m\u001b[0;34m)\u001b[0m\u001b[0;34m)\u001b[0m\u001b[0;34m\u001b[0m\u001b[0m\n",
      "\u001b[0;31mKeyboardInterrupt\u001b[0m: "
     ]
    }
   ],
   "source": [
    "max_afs = []\n",
    "n = 0\n",
    "\n",
    "for row in data.itertuples():\n",
    "    n+=1\n",
    "    lens = []\n",
    "    afs = []\n",
    "    for A in (row.A1, row.A2, row.A3, row.A4):\n",
    "        if str(A) != 'nan':\n",
    "            lens.append(len(A.split(':')[0]))\n",
    "            afs.append(float(A.split(':')[1]))\n",
    "    if len(afs) > 1 and set(lens) == {1}:\n",
    "        max_afs.append(max(afs))\n",
    "max_afs2 = [i for i in max_afs if i != 0]"
   ]
  },
  {
   "cell_type": "markdown",
   "metadata": {},
   "source": [
    "### STRs"
   ]
  },
  {
   "cell_type": "code",
   "execution_count": null,
   "metadata": {
    "collapsed": true
   },
   "outputs": [],
   "source": [
    "STRs = pd.read_table('../data/STRs_depth5.tsv')\n",
    "grouped = STRs.groupby('CHR_START')\n",
    "\n",
    "# Looking only at those with at least 25 samples called\n",
    "at_least_25 = []\n",
    "for i in grouped:\n",
    "    if len(i[1].ACCESSION) >= 25:\n",
    "        at_least_25.append(i[0])\n",
    "        \n",
    "STRs = STRs[STRs['CHR_START'].isin(at_least_25)]"
   ]
  },
  {
   "cell_type": "code",
   "execution_count": null,
   "metadata": {},
   "outputs": [],
   "source": [
    "len(set([i.split('.')[0] for i in STRs.GENE if str(i) != 'nan']))"
   ]
  },
  {
   "cell_type": "markdown",
   "metadata": {},
   "source": [
    "Subsetting"
   ]
  },
  {
   "cell_type": "code",
   "execution_count": null,
   "metadata": {
    "collapsed": true
   },
   "outputs": [],
   "source": [
    "mono = STRs[STRs['UNIT_N']==1]\n",
    "di = STRs[STRs['UNIT_N']==2]\n",
    "tri = STRs[STRs['UNIT_N']==3]"
   ]
  },
  {
   "cell_type": "markdown",
   "metadata": {},
   "source": [
    "Getting allele frequencies for mono-, di- and tri-STRs"
   ]
  },
  {
   "cell_type": "code",
   "execution_count": null,
   "metadata": {},
   "outputs": [],
   "source": [
    "def get_mafs(frame):\n",
    "    mafs = []\n",
    "    for i in frame.groupby('CHR_START'):\n",
    "        data = Counter(i[1].STR_DOSAGE)\n",
    "        maf = max(data.values()) / float(sum(data.values()))\n",
    "        mafs.append(maf)\n",
    "    return mafs\n",
    "\n",
    "mono_mafs = get_mafs(mono)\n",
    "di_mafs = get_mafs(di)\n",
    "tri_mafs = get_mafs(tri)"
   ]
  },
  {
   "cell_type": "markdown",
   "metadata": {},
   "source": [
    "Variants"
   ]
  },
  {
   "cell_type": "code",
   "execution_count": null,
   "metadata": {},
   "outputs": [],
   "source": [
    "def get_n_variants(frame):\n",
    "    variants = []\n",
    "    for i in frame.groupby('CHR_START'):\n",
    "        n_variant = len(set(i[1].STR_DOSAGE))\n",
    "        variants.append(n_variant)\n",
    "    return variants\n",
    "\n",
    "mono_var = get_n_variants(mono)\n",
    "di_var = get_n_variants(di)\n",
    "tri_var = get_n_variants(tri)"
   ]
  },
  {
   "cell_type": "markdown",
   "metadata": {},
   "source": [
    "Setting colors for all figures"
   ]
  },
  {
   "cell_type": "code",
   "execution_count": null,
   "metadata": {
    "collapsed": true
   },
   "outputs": [],
   "source": [
    "mc = '#1E90FF'\n",
    "dc = '#F08080'\n",
    "tc = '#808000'"
   ]
  },
  {
   "cell_type": "markdown",
   "metadata": {},
   "source": [
    "### Figure 1.b"
   ]
  },
  {
   "cell_type": "code",
   "execution_count": null,
   "metadata": {},
   "outputs": [],
   "source": [
    "f, ax = subplots(ncols = 1, nrows = 1, figsize = (4,4))\n",
    "linewidth = 3.0\n",
    "bins = 25\n",
    "color = 'Black'\n",
    "a = 0.5\n",
    "tick_params(direction='out', length=6, width=1)\n",
    "\n",
    "hist(array(max_afs2), label = 'SNPs', color = 'Black', histtype='step', linewidth=linewidth, bins = bins)\n",
    "hist(array(mono_mafs), label = 'Mono-STRs', color = mc, alpha = a, histtype='step', linewidth=linewidth, bins = bins)\n",
    "hist(array(di_mafs), label = 'Di-STRs', histtype='step', color = dc, alpha = a, linewidth=linewidth, bins = bins)\n",
    "hist(array(tri_mafs), label = 'Tri-STRs', histtype='step', color = tc, alpha = a, linewidth=linewidth, bins = bins)\n",
    "ax.spines[\"top\"].set_visible(False)\n",
    "ax.spines[\"right\"].set_visible(True)\n",
    "legend(loc = 'upper left', fontsize = 10, frameon = True)\n",
    "xlim(0, 1)\n",
    "yscale('log', nonposy='clip')\n",
    "xticks(fontsize = 12)\n",
    "yticks(fontsize = 12)\n",
    "\n",
    "\n",
    "savefig('../Figures/Arabidopsis_MAF_hist_w_snps.png', type = 'png', dpi = 500, transparent = True)\n",
    "savefig('../Figures/Arabidopsis_MAF_hist_w_snps.pdf', type = 'pdf', transparent = True)\n",
    "\n",
    "\n",
    "show()"
   ]
  },
  {
   "cell_type": "markdown",
   "metadata": {},
   "source": [
    "### Figure 1.c"
   ]
  },
  {
   "cell_type": "code",
   "execution_count": null,
   "metadata": {},
   "outputs": [],
   "source": [
    "from seaborn import kdeplot, distplot\n",
    "f, ax = subplots(ncols = 1, nrows = 1, figsize = (4,4))\n",
    "lw = 5\n",
    "\n",
    "tick_params(direction='out', length=6, width=1)\n",
    "\n",
    "a = 0.5\n",
    "\n",
    "distplot(mono_var, hist = False,\n",
    "        kde_kws = {\"color\": mc, \"lw\": lw, 'label' : 'Mono-STRs', 'alpha' : a})\n",
    "distplot(di_var, hist = False,\n",
    "        kde_kws = {\"color\": dc, \"lw\": lw, 'label' : 'Di-STRs', 'alpha' : a})\n",
    "\n",
    "distplot(tri_var, hist = False,\n",
    "        kde_kws = {\"color\": tc, \"lw\": lw, 'label' : 'Tri-STRs', 'alpha' : a})\n",
    "\n",
    "ax.spines[\"top\"].set_visible(False)\n",
    "ax.spines[\"right\"].set_visible(False)\n",
    "\n",
    "xticks(fontsize = 12)\n",
    "yticks(fontsize = 12)\n",
    "legend(fontsize = 10, frameon = True)\n",
    "\n",
    "\n",
    "xlim(0)\n",
    "savefig('../Figures/Arabidopsis_N_variants.png', type = 'png', dpi = 500, transparent = True)\n",
    "savefig('../Figures/Arabidopsis_N_variants.pdf', type = 'pdf', transparent = True)\n",
    "\n",
    "show()"
   ]
  },
  {
   "cell_type": "markdown",
   "metadata": {},
   "source": [
    "### Figure 1.d"
   ]
  },
  {
   "cell_type": "markdown",
   "metadata": {},
   "source": [
    "Loading data"
   ]
  },
  {
   "cell_type": "code",
   "execution_count": null,
   "metadata": {},
   "outputs": [],
   "source": [
    "vSTRs = pd.read_table('../data/STRs_depth5_chr_start_maf09.annotated.tsv')\n",
    "nvSTRs = pd.read_table('../data/STRs_depth5_chr_start_maf09_nv.annotated.tsv')\n",
    "\n",
    "vSTRs = vSTRs[vSTRs['CHR_START'].isin(at_least_25)]\n",
    "nvSTRs = nvSTRs[nvSTRs['CHR_START'].isin(at_least_25)]"
   ]
  },
  {
   "cell_type": "code",
   "execution_count": null,
   "metadata": {
    "collapsed": true
   },
   "outputs": [],
   "source": [
    "keep = ['CDS', 'FIVE_PRIME_UTR', 'THREE_PRIME_UTR', 'SPANNING', 'PROMOTER', 'INTRON', 'NON_GENIC']\n",
    "vSTRs = vSTRs[vSTRs['WHERE'].isin(keep)]\n",
    "nvSTRs = nvSTRs[nvSTRs['WHERE'].isin(keep)]\n",
    "\n",
    "v_mono = vSTRs[vSTRs['UNIT_N']==1]\n",
    "v_di = vSTRs[vSTRs['UNIT_N']==2]\n",
    "v_tri = vSTRs[vSTRs['UNIT_N']==3]\n",
    "\n",
    "nv_mono = nvSTRs[nvSTRs['UNIT_N']==1]\n",
    "nv_di = nvSTRs[nvSTRs['UNIT_N']==2]\n",
    "nv_tri = nvSTRs[nvSTRs['UNIT_N']==3]"
   ]
  },
  {
   "cell_type": "code",
   "execution_count": null,
   "metadata": {
    "collapsed": true
   },
   "outputs": [],
   "source": [
    "def get_bars(frame):\n",
    "    D = Counter(frame.groupby(['CHR_START', 'WHERE']).std().reset_index().WHERE)\n",
    "    return D"
   ]
  },
  {
   "cell_type": "code",
   "execution_count": null,
   "metadata": {
    "scrolled": false
   },
   "outputs": [],
   "source": [
    "f, ax = subplots(figsize = (8, 5))\n",
    "\n",
    "tick_params(direction='out', length=6, width=1, axis = 'y')\n",
    "\n",
    "\n",
    "mono_data_v = array(get_bars(v_mono).values())\n",
    "mono_data_nv = array(insert(get_bars(nv_mono).values(), 3, 0))\n",
    "\n",
    "di_data_v = array(get_bars(v_di).values())\n",
    "di_data_nv = array(get_bars(nv_di).values())\n",
    "\n",
    "tri_data_v = array(get_bars(v_tri).values())\n",
    "tri_data_nv = array(get_bars(nv_tri).values())\n",
    "\n",
    "w = 0.2\n",
    "a = 0.5\n",
    "\n",
    "ax.bar(arange(0.33, len(get_bars(v_tri)) + 0.33), [3000, 0, 3000, 0, 3000, 0, 3000], color = 'lightgray', edgecolor = 'lightgray', width = 1, alpha = 0.2)\n",
    "\n",
    "\n",
    "ax.bar(range(len(get_bars(v_mono))), mono_data_v + mono_data_nv, color = 'white', edgecolor = 'black', width = w, label = 'Non-variable')\n",
    "ax.bar(range(len(get_bars(v_mono))), mono_data_v, color = mc, edgecolor = 'black', width = w, alpha = a, label = 'Variable mono-STRs')\n",
    "ax.bar(arange(0.33, len(get_bars(v_di)) + 0.33), di_data_v + di_data_nv, color = 'white', edgecolor = 'black', width = w)\n",
    "ax.bar(arange(0.33, len(get_bars(v_di)) + 0.33), di_data_v, color = dc, edgecolor = 'black', width = w, alpha = a, label = 'Variable di-STRs')\n",
    "ax.bar(arange(0.66, len(get_bars(v_tri)) + 0.66), tri_data_v + tri_data_nv, color = 'white', edgecolor = 'black', width = w)\n",
    "ax.bar(arange(0.66, len(get_bars(v_tri)) + 0.66), tri_data_v, color = tc, edgecolor = 'black', width = w, alpha = a, label = 'Variable tri-STRs')\n",
    "\n",
    "\n",
    "\n",
    "\n",
    "ax.spines[\"top\"].set_visible(False)\n",
    "ax.spines[\"right\"].set_visible(False)\n",
    "xlabels = ['Intron', 'Promoter', '5\\'UTR', 'CDS', '3\\'UTR', 'Spanning', 'Intergenic']\n",
    "xticks(arange(0.33, 7), xlabels, fontsize = 12, rotation = 70)\n",
    "yticks(fontsize = 12)\n",
    "legend(fontsize = 12, frameon = True)\n",
    "\n",
    "tight_layout()\n",
    "\n",
    "savefig('../Figures/WhereAreSTRs_stacked_all.pdf', kind = 'pdf', transparent = True)\n",
    "savefig('../Figures/WhereAreSTRs_stacked_all.png', kind = 'png', transparent = True)\n",
    "\n",
    "show()"
   ]
  },
  {
   "cell_type": "markdown",
   "metadata": {},
   "source": [
    "### Figure 1.e"
   ]
  },
  {
   "cell_type": "markdown",
   "metadata": {},
   "source": [
    "Loading in data from the 'Functional STRs' notebook"
   ]
  },
  {
   "cell_type": "code",
   "execution_count": null,
   "metadata": {
    "collapsed": true
   },
   "outputs": [],
   "source": [
    "cDNA_to_genomic_map_final = pd.read_table('/Users/willibr/Desktop/Repeatproject/FunctionalSTRs/cDNA_to_genomic_map_final.tsv')\n",
    "cDNA_to_genomic_map_final['Prot_start'] = [str(i.CDS_nuc_start / 3) for i in cDNA_to_genomic_map_final.itertuples()]\n",
    "cDNA_to_genomic_map_final['Prot_end'] = [str(i.CDS_nuc_end / 3) for i in cDNA_to_genomic_map_final.itertuples()]"
   ]
  },
  {
   "cell_type": "markdown",
   "metadata": {},
   "source": [
    "Using the TAIR10 peptide FASTA file to get dictionary with all repeats and their protein sequence"
   ]
  },
  {
   "cell_type": "code",
   "execution_count": null,
   "metadata": {
    "collapsed": true
   },
   "outputs": [],
   "source": [
    "all_reps = {}\n",
    "for i in cDNA_to_genomic_map_final.drop_duplicates().itertuples():\n",
    "    for record in SeqIO.parse('../data/TAIR10_pep_20101214.txt', 'fasta'):\n",
    "        if record.id == i.GENE:\n",
    "            coord = [i.Prot_start, i.Prot_end]\n",
    "            all_reps.update({str(i.CHR_START) + ' ' + str(coord[0]) + ' ' + str(coord[1]) : record.seq[int(i.Prot_start):int(i.Prot_end)+1]})"
   ]
  },
  {
   "cell_type": "markdown",
   "metadata": {},
   "source": [
    "This takes a while, pickling results"
   ]
  },
  {
   "cell_type": "code",
   "execution_count": null,
   "metadata": {
    "collapsed": true
   },
   "outputs": [],
   "source": [
    "pickle.dump(all_reps, open('../analysis/all_reps.dict', 'w'))"
   ]
  },
  {
   "cell_type": "code",
   "execution_count": null,
   "metadata": {},
   "outputs": [],
   "source": [
    "all_reps = pickle.load(open('../data/all_reps.dict', 'r'))"
   ]
  },
  {
   "cell_type": "markdown",
   "metadata": {},
   "source": [
    "Getting loci to analyze"
   ]
  },
  {
   "cell_type": "code",
   "execution_count": null,
   "metadata": {
    "collapsed": true
   },
   "outputs": [],
   "source": [
    "vSTR_loci = set(vSTRs[vSTRs['CHR_START'].isin([i.split()[0] for i in all_reps.keys()])].CHR_START)\n",
    "nvSTR_loci = set(nvSTRs[nvSTRs['CHR_START'].isin([i.split()[0] for i in all_reps.keys()])].CHR_START)"
   ]
  },
  {
   "cell_type": "markdown",
   "metadata": {},
   "source": [
    "Making new dictionaries and lists for plotting"
   ]
  },
  {
   "cell_type": "code",
   "execution_count": null,
   "metadata": {},
   "outputs": [],
   "source": [
    "d = {k.split()[0]: all_reps[k] for k in all_reps}\n",
    "v_dict = {k: d[k] for k in vSTR_loci}\n",
    "nv_dict = {k: d[k] for k in nvSTR_loci}\n",
    "\n",
    "vAAs = []\n",
    "for i in v_dict.values():\n",
    "    if Counter(i).most_common(1)[0][0] * len(i[1:-1]) in i[1:-1]:\n",
    "        print i\n",
    "        vAAs.append(Counter(i).most_common(1)[0][0])\n",
    "\n",
    "nvAAs = []\n",
    "for i in nv_dict.values():\n",
    "    if Counter(i).most_common(1)[0][0] * len(i[1:-1]) in i[1:-1]:\n",
    "        print i\n",
    "        nvAAs.append(Counter(i).most_common(1)[0][0])"
   ]
  },
  {
   "cell_type": "code",
   "execution_count": null,
   "metadata": {},
   "outputs": [],
   "source": [
    "f, ax = subplots(figsize = (8,5))\n",
    "Total = array(Counter(vAAs)) + array(Counter(nvAAs))\n",
    "vAA = Counter(vAAs)\n",
    "color = 'black'\n",
    "\n",
    "tick_params(direction='out', length=6, width=1, axis = 'both')\n",
    "\n",
    "\n",
    "setp(ax.spines.values(), color=color)\n",
    "setp([ax.get_xticklines(), ax.get_yticklines()], color=color)\n",
    "ax.bar(range(len(Total)), Total.values(), align = 'center', color = 'white', \n",
    "       label = 'Non-variable tri-STRs', linewidth = 1, edgecolor = 'Black')\n",
    "ax.bar(range(len([vAA[key] for key in Total.keys()])), [vAA[key] for key in Total.keys()], alpha = 0.5, align = 'center', color = tc, \n",
    "       label = 'Variable tri-STRs', linewidth = 1, edgecolor = 'Black')\n",
    "\n",
    "\n",
    "xticks(range(len(Total)), Total.keys())\n",
    "xticks(color = color)\n",
    "yticks(color = color)\n",
    "ax.spines[\"top\"].set_visible(False)\n",
    "ax.spines[\"right\"].set_visible(False)\n",
    "ax.set_xticklabels(ax.get_xticklabels(), size=12)\n",
    "ax.set_yticklabels([int(x) for x in ax.get_yticks()], size=12)\n",
    "\n",
    "\n",
    "\n",
    "\n",
    "legend(fontsize = 12, frameon = True)\n",
    "#tight_layout()\n",
    "savefig('../Figures/vAAs_nvAAs.pdf', type = 'pdf', transparent = True)\n",
    "savefig('../Figures/vAAs_nvAAs.png', type = 'png', transparent = True)\n",
    "\n",
    "show()"
   ]
  }
 ],
 "metadata": {
  "extensions": {
   "jupyter_dashboards": {
    "activeView": "report_default",
    "version": 1,
    "views": {
     "grid_default": {
      "cellMargin": 10,
      "defaultCellHeight": 20,
      "maxColumns": 12,
      "name": "grid",
      "type": "grid"
     },
     "report_default": {
      "name": "report",
      "type": "report"
     }
    }
   }
  },
  "kernelspec": {
   "display_name": "Python [conda root]",
   "language": "python",
   "name": "conda-root-py"
  },
  "language_info": {
   "codemirror_mode": {
    "name": "ipython",
    "version": 2
   },
   "file_extension": ".py",
   "mimetype": "text/x-python",
   "name": "python",
   "nbconvert_exporter": "python",
   "pygments_lexer": "ipython2",
   "version": "2.7.13"
  }
 },
 "nbformat": 4,
 "nbformat_minor": 2
}

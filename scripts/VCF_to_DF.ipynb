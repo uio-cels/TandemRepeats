{
 "cells": [
  {
   "cell_type": "code",
   "execution_count": 1,
   "metadata": {
    "collapsed": true,
    "extensions": {
     "jupyter_dashboards": {
      "version": 1,
      "views": {
       "grid_default": {
        "col": 0,
        "height": 4,
        "hidden": false,
        "row": 0,
        "width": 12
       },
       "report_default": {}
      }
     }
    }
   },
   "outputs": [],
   "source": [
    "import pybedtools as pyb\n",
    "import vcf\n",
    "import pandas as pd"
   ]
  },
  {
   "cell_type": "markdown",
   "metadata": {
    "extensions": {
     "jupyter_dashboards": {
      "version": 1,
      "views": {
       "grid_default": {
        "col": 0,
        "height": 2,
        "hidden": false,
        "row": 4,
        "width": 4
       },
       "report_default": {}
      }
     }
    }
   },
   "source": [
    "Loading VCF produced by Allelotype (of lobSTR)"
   ]
  },
  {
   "cell_type": "code",
   "execution_count": 16,
   "metadata": {
    "collapsed": true
   },
   "outputs": [],
   "source": [
    "VCF_FILE_NAME = '../data/AllGenesAllAccessions.merged.bam.sorted.annotated.vcf'"
   ]
  },
  {
   "cell_type": "markdown",
   "metadata": {
    "extensions": {
     "jupyter_dashboards": {
      "version": 1,
      "views": {
       "grid_default": {
        "col": 4,
        "height": 4,
        "hidden": false,
        "row": 4,
        "width": 4
       },
       "report_default": {}
      }
     }
    }
   },
   "source": [
    "Loading in metadata from SRA (https://www.ncbi.nlm.nih.gov/Traces/study/?acc=SRP056687) and table at http://1001genomes.org/accessions.html"
   ]
  },
  {
   "cell_type": "code",
   "execution_count": 18,
   "metadata": {
    "extensions": {
     "jupyter_dashboards": {
      "version": 1,
      "views": {
       "grid_default": {
        "hidden": true
       },
       "report_default": {}
      }
     }
    }
   },
   "outputs": [],
   "source": [
    "AccList = pd.read_csv(\"../data/AccListFrom1001Arabidopsis.csv\")\n",
    "AccList.rename(columns={'tg_ecotypeid': 'Ecotype'}, inplace=True)\n",
    "\n",
    "SraRunTable = pd.read_csv(\"../data/SraRunTable.txt\", sep = \"\\t\")\n",
    "SraRunTable.rename(columns={'ecotype_s': 'Ecotype'}, inplace=True)\n",
    "\n",
    "AccListSraRunTable = pd.merge(AccList, SraRunTable)"
   ]
  },
  {
   "cell_type": "markdown",
   "metadata": {
    "extensions": {
     "jupyter_dashboards": {
      "version": 1,
      "views": {
       "grid_default": {
        "col": 8,
        "height": 4,
        "hidden": false,
        "row": 4,
        "width": 4
       },
       "report_default": {}
      }
     }
    }
   },
   "source": [
    "Function to make DataFrame of VCF file, excluding samples not called and with inferred genotype.   "
   ]
  },
  {
   "cell_type": "code",
   "execution_count": 24,
   "metadata": {
    "collapsed": true,
    "extensions": {
     "jupyter_dashboards": {
      "version": 1,
      "views": {
       "grid_default": {
        "hidden": true
       },
       "report_default": {}
      }
     }
    }
   },
   "outputs": [],
   "source": [
    "def make_DF_from_VCF(df_filename, vcf_filename):\n",
    "    fh = open(df_filename, 'w')\n",
    "    tab = '\\t'\n",
    "    newline = '\\n'\n",
    "    vcf_reader = vcf.Reader(open(vcf_filename, 'r'))\n",
    "    for record in vcf_reader:\n",
    "        for sample in vcf_reader.samples:\n",
    "            if record.genotype(sample)['DP'] >= 1:\n",
    "                if record.genotype(sample)['GT'] != './.':\n",
    "                    if None not in record.ALT:\n",
    "\n",
    "                        GT1 = int(record.genotype(sample)['GT'].split('/')[0]) - 1\n",
    "                        GT2 = int(record.genotype(sample)['GT'].split('/')[1]) - 1\n",
    "\n",
    "                        ref = record.REF\n",
    "\n",
    "                        if GT1 == -1:\n",
    "                            VAR = record.REF\n",
    "                        else:\n",
    "                            VAR = record.ALT[GT1]\n",
    "                        if GT2 == -1:\n",
    "                            VAR2 = record.REF\n",
    "                        else:\n",
    "                            VAR2 = record.ALT[GT2]\n",
    "\n",
    "                        gene = 'NA'\n",
    "\n",
    "                        try:\n",
    "                            gene = record.INFO['GENE']\n",
    "                        except:\n",
    "                            pass\n",
    "\n",
    "\n",
    "                        Depth = record.genotype(sample)['DP']\n",
    "                        End = str(record.INFO['END'])\n",
    "                        NS = str(record.INFO['NS'])\n",
    "\n",
    "                        output = (record.CHROM + tab + tab + gene + tab + str(record.POS) + tab + str(End) + tab + \n",
    "                                  sample + tab + str(Depth) + tab +\n",
    "                                  record.INFO['MOTIF'] + tab + str(len(record.INFO['MOTIF'])) +\n",
    "                                  tab + ref +\n",
    "                                  tab + str(VAR) + tab + str(len(VAR)) + tab + str(VAR2) + tab + str(len(VAR2)) \n",
    "                                  + newline)\n",
    "                        fh.write(output)\n",
    "    fh.close()"
   ]
  },
  {
   "cell_type": "markdown",
   "metadata": {
    "extensions": {
     "jupyter_dashboards": {
      "version": 1,
      "views": {
       "grid_default": {
        "col": 0,
        "height": 4,
        "hidden": false,
        "row": 6,
        "width": 4
       },
       "report_default": {}
      }
     }
    }
   },
   "source": [
    "Running function. takes ~30 min, produces a 1.6 GB DataFrame"
   ]
  },
  {
   "cell_type": "code",
   "execution_count": 25,
   "metadata": {
    "extensions": {
     "jupyter_dashboards": {
      "version": 1,
      "views": {
       "grid_default": {
        "hidden": true
       },
       "report_default": {}
      }
     }
    }
   },
   "outputs": [],
   "source": [
    "DF_FILE_NAME = '../data/STR_Arabidopsis.dataframe.annotated.tsv'\n",
    "\n",
    "make_DF_from_VCF(DF_FILE_NAME,VCF_FILE_NAME)"
   ]
  },
  {
   "cell_type": "markdown",
   "metadata": {},
   "source": [
    "We filter for depth and allele frequency in the 'FilteringDF' notebook."
   ]
  }
 ],
 "metadata": {
  "extensions": {
   "jupyter_dashboards": {
    "activeView": "grid_default",
    "version": 1,
    "views": {
     "grid_default": {
      "cellMargin": 10,
      "defaultCellHeight": 20,
      "maxColumns": 12,
      "name": "grid",
      "type": "grid"
     },
     "report_default": {
      "name": "report",
      "type": "report"
     }
    }
   }
  },
  "kernelspec": {
   "display_name": "Python [conda root]",
   "language": "python",
   "name": "conda-root-py"
  },
  "language_info": {
   "codemirror_mode": {
    "name": "ipython",
    "version": 2
   },
   "file_extension": ".py",
   "mimetype": "text/x-python",
   "name": "python",
   "nbconvert_exporter": "python",
   "pygments_lexer": "ipython2",
   "version": "2.7.13"
  }
 },
 "nbformat": 4,
 "nbformat_minor": 2
}

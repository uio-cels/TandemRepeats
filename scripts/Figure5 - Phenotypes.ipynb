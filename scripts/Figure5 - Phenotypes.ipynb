{
 "cells": [
  {
   "cell_type": "code",
   "execution_count": 1,
   "metadata": {
    "collapsed": true
   },
   "outputs": [],
   "source": [
    "import glob\n",
    "import pandas as pd\n",
    "import statsmodels.sandbox.stats.multicomp\n",
    "from pylab import *\n",
    "import seaborn as sns"
   ]
  },
  {
   "cell_type": "markdown",
   "metadata": {},
   "source": [
    "Function to correct for multiple testing"
   ]
  },
  {
   "cell_type": "code",
   "execution_count": 2,
   "metadata": {
    "collapsed": true
   },
   "outputs": [],
   "source": [
    "def correct(p_values):\n",
    "    return statsmodels.sandbox.stats.multicomp.multipletests(p_values, alpha = 0.05, method = 'fdr_bh' )"
   ]
  },
  {
   "cell_type": "markdown",
   "metadata": {},
   "source": [
    "Loading STR data"
   ]
  },
  {
   "cell_type": "code",
   "execution_count": 3,
   "metadata": {},
   "outputs": [
    {
     "name": "stderr",
     "output_type": "stream",
     "text": [
      "/anaconda/lib/python2.7/site-packages/ipykernel/__main__.py:4: SettingWithCopyWarning: \n",
      "A value is trying to be set on a copy of a slice from a DataFrame.\n",
      "Try using .loc[row_indexer,col_indexer] = value instead\n",
      "\n",
      "See the caveats in the documentation: http://pandas.pydata.org/pandas-docs/stable/indexing.html#indexing-view-versus-copy\n"
     ]
    }
   ],
   "source": [
    "vSTRs = pd.read_table('../data/STRs_depth5_chr_start_maf09.annotated.tsv')\n",
    "p = vSTRs[vSTRs['WHERE']=='PROMOTER']\n",
    "np = vSTRs[vSTRs['WHERE']!='PROMOTER']\n",
    "p['GENE2'] = p.Closest\n",
    "vSTRs = pd.concat([p, np])"
   ]
  },
  {
   "cell_type": "markdown",
   "metadata": {},
   "source": [
    "Loading results of phenotype tests. Phenotype data was downloaded from **AraPheno**, using the REST API  (https://arapheno.1001genomes.org/faq/rest/). The R script pheno_lme.R was used to run then analysis and generated the output loaded next."
   ]
  },
  {
   "cell_type": "code",
   "execution_count": 4,
   "metadata": {},
   "outputs": [
    {
     "name": "stdout",
     "output_type": "stream",
     "text": [
      "0W_GH_FT\n",
      "0W_GH_LN\n",
      "0W\n",
      "2W\n",
      "4W\n",
      "8W_GH_FT\n",
      "8W_GH_LN\n",
      "8W\n",
      "After_Vern_Growth\n",
      "Aphid_number\n",
      "Area_sweden_2009_(1st_experiment)\n",
      "Area_sweden_2009_(2nd_experiment)\n",
      "As_CFU2\n",
      "As2_CFU2\n",
      "As75_022510\n",
      "As75_Hydro_Rootoot\n",
      "As75_Soil_3\n",
      "As75_Soil_Leaf\n",
      "As75_Soil_Seed\n",
      "As75\n",
      "At1_CFU2\n",
      "At2_CFU2\n",
      "B11_022510\n",
      "B11_Hydro_Leaf\n",
      "B11_Hydro_Rootoot\n",
      "B11_Soil_3\n",
      "B11_Soil_Leaf\n",
      "B11_Soil_Seed\n",
      "B11\n",
      "Bacterial_titer\n",
      "Bs_CFU2\n",
      "Bs\n",
      "Ca43_022510\n",
      "Ca43_Hydro_Leaf\n",
      "Ca43_Hydro_Rootoot\n",
      "Ca43_Soil_Leaf\n",
      "Ca43_Soil_Seed\n",
      "Ca43_Soil\n",
      "Ca43\n",
      "Cd111_022510\n",
      "Cd111_Soil_3\n",
      "Cd114_Hydro_Leaf\n",
      "Cd114_Hydro_Rootoot\n",
      "Cd114_Soil_Leaf\n",
      "Cd114_Soil_Seed\n",
      "Cd114\n",
      "Co59_022510\n",
      "Co59_Hydro_Leaf\n",
      "Co59_Hydro_Root\n",
      "Co59_Soil_3\n",
      "Co59_Soil_Leaf_1\n",
      "Co59_Soil_Seed\n",
      "Co59\n",
      "Cu65_022510\n",
      "Cu65_Hydro_Leaf\n",
      "Cu65_Hydro_Root\n",
      "Cu65_Soil_3\n",
      "Cu65_Soil_Leaf_1\n",
      "Cu65_Soil_Seed\n",
      "Cu65\n",
      "DSDS50\n",
      "DTF_spain_2008_(1st_experiment)\n",
      "DTF_spain_2008_(2nd_experiment)\n",
      "DTF_spain_2009_(1st_experiment)\n",
      "DTF_spain_2009_(2nd_experiment)\n",
      "DTF_sweden_2008_(1st_experiment)\n",
      "DTF_sweden_2008_(2nd_experiment)\n",
      "DTF_sweden_2009_(1st_experiment)\n",
      "DTF_sweden_2009_(2nd_experiment)\n",
      "DTFlocSweden2008\n",
      "DTFlocSweden2009\n",
      "DTFmainEffect2008\n",
      "DTFmainEffect2009\n",
      "DTFplantingLoc2008\n",
      "DTFplantingSummer2008\n",
      "DTFplantingSummer2009\n",
      "DTFplantingSummerLocSweden2009\n",
      "DW\n",
      "Fe56_Hydro_Leaf\n",
      "Fe56_Hydro_Root\n",
      "Fe56_Soil_Leaf_1\n",
      "Fe56_Soil_Seed\n",
      "Fe56\n",
      "Fe57_022510\n",
      "Fe57_Soil_3\n",
      "FLC\n",
      "FRI\n",
      "FT_Diameter_Field\n",
      "FT_Duration_GH\n",
      "FT_Field\n",
      "FT_GH\n",
      "FT10\n",
      "FT16\n",
      "FT22\n",
      "FW\n",
      "Germ_10\n",
      "Germ_16\n",
      "Germ_22\n",
      "Germ_in_dark\n",
      "Hypocotyl_length\n",
      "K39_022510\n",
      "K39_Hydro_Leaf\n",
      "K39_Hydro_Root\n",
      "K39_Soil_3\n",
      "K39_Soil_Leaf_1\n",
      "K39_Soil_Seed\n",
      "K39\n",
      "LC_Duration_GH\n",
      "LD\n",
      "LDV\n",
      "LFS_GH\n",
      "Li7_022510\n",
      "Li7_Hydro_Leaf\n",
      "Li7_Hydro_Root\n",
      "Li7_Soil_3\n",
      "Li7_Soil_Leaf_1\n",
      "Li7_Soil_Seed\n",
      "Li7\n",
      "LN10\n",
      "LN16\n",
      "LN22\n",
      "M130T666\n",
      "M172T666\n",
      "M216T665\n",
      "Mature_cell_length\n",
      "Meristem_zone_length\n",
      "Mg25_022510\n",
      "Mg25_Hydro_Leaf\n",
      "Mg25_Hydro_Root\n",
      "Mg25_Soil_3\n",
      "Mg25_Soil_Leaf_1\n",
      "Mg25_Soil_Seed\n",
      "Mg25\n",
      "Mn55_022510\n",
      "Mn55_Hydro_Leaf\n",
      "Mn55_Hydro_Root\n",
      "Mn55_Soil_3\n",
      "Mn55_Soil_Leaf_1\n",
      "Mn55_Soil_Seed\n",
      "Mn55\n",
      "Mo98_022510\n",
      "Mo98_Hydro_Leaf\n",
      "Mo98_Hydro_Root\n",
      "Mo98_Soil_3\n",
      "Mo98_Soil_Leaf_1\n",
      "Mo98_Soil_Seed\n",
      "Mo98\n",
      "MT_GH\n",
      "Na23_022510\n",
      "Na23_Hydro_Leaf\n",
      "Na23_Hydro_Root\n",
      "Na23_Soil_3\n",
      "Na23_Soil_Leaf_1\n",
      "Na23_Soil_Seed\n",
      "Na23\n",
      "Ni60_022510\n",
      "Ni60_Hydro_Leaf\n",
      "Ni60_Hydro_Root\n",
      "Ni60_Soil_3\n",
      "Ni60_Soil_Leaf_1\n",
      "Ni60_Soil_Seed\n",
      "Ni60\n",
      "P31_022510\n",
      "P31_Hydro_Leaf\n",
      "P31_Hydro_Root\n",
      "P31_Soil_3\n",
      "P31_Soil_Leaf_1\n",
      "P31_Soil_Seed\n",
      "P31\n",
      "Rb85_022510\n",
      "Rb85_Hydro_Leaf\n",
      "Rb85_Hydro_Root\n",
      "Rb85_Soil_3\n",
      "Rb85_Soil_Seed\n",
      "RP_GH\n",
      "S34_022510\n",
      "S34_Hydro_Leaf\n",
      "S34_Hydro_Root\n",
      "S34_Soil_3\n",
      "S34_Soil_Seed\n",
      "S34\n",
      "SD\n",
      "SDV\n",
      "Se82_022510\n",
      "Se82_Soil_3\n",
      "Se82_Soil_Leaf_1\n",
      "Se82_Soil_Seed\n",
      "Se82\n",
      "Secondary_Dormancy\n",
      "Seed_bank_133-91\n",
      "Seedling_Growth\n",
      "Silique_16\n",
      "Silique_22\n",
      "Size_spain_2009_(1st_experiment)\n",
      "Size_spain_2009_(2nd_experiment)\n",
      "Size_sweden_2009_(1st_experiment)\n",
      "Size_sweden_2009_(2nd_experiment)\n",
      "SizeLocSweden2009\n",
      "SizeMainEffect2009\n",
      "SizePlantingSummer2009\n",
      "SizePlantingSummerLocSweden2009\n",
      "Storage_28_days\n",
      "Storage_56_days\n",
      "Storage_7_days\n",
      "Trichome_avg_C\n",
      "Trichome_avg_JA\n",
      "Vern_Growth\n",
      "Width_10\n",
      "Width_16\n",
      "Width_22\n",
      "Yield_spain_2009_(1st_experiment)\n",
      "Yield_spain_2009_(2nd_experiment)\n",
      "Yield_sweden_2009_(1st_experiment)\n",
      "Yield_sweden_2009_(2nd_experiment)\n",
      "YieldLocSweden2009\n",
      "YieldMainEffect2009\n",
      "YieldPlantingSummer2009\n",
      "YieldPlantingSummerLocSweden2009\n",
      "Zn66_022510\n",
      "Zn66_Hydro_Leaf\n",
      "Zn66_Hydro_Root\n",
      "Zn66_Soil_3\n",
      "Zn66_Soil_Leaf_1\n",
      "Zn66_Soil_Seed\n",
      "Zn66\n"
     ]
    }
   ],
   "source": [
    "frames = []\n",
    "for i in glob.glob('../data/phenotypes/observed/*.csv'):\n",
    "    name = i.split('lmeResDF')[1].replace('_', '').replace(' ', '_').split('.')[0]\n",
    "    print name\n",
    "    frame = pd.read_csv(i)\n",
    "    frame['Phenotype'] = [name for i in frame.Where]\n",
    "    frames.append(frame)\n",
    "phen = pd.concat(frames)\n",
    "phen = phen[phen['Start'].isin(set(vSTRs.CHR_START))]"
   ]
  },
  {
   "cell_type": "code",
   "execution_count": 5,
   "metadata": {},
   "outputs": [
    {
     "name": "stderr",
     "output_type": "stream",
     "text": [
      "/anaconda/lib/python2.7/site-packages/ipykernel/__main__.py:6: SettingWithCopyWarning: \n",
      "A value is trying to be set on a copy of a slice from a DataFrame.\n",
      "Try using .loc[row_indexer,col_indexer] = value instead\n",
      "\n",
      "See the caveats in the documentation: http://pandas.pydata.org/pandas-docs/stable/indexing.html#indexing-view-versus-copy\n"
     ]
    }
   ],
   "source": [
    "phen_gene = phen[phen['Where'].isin(['PROMOTER', 'CDS', 'THREE_PRIME_UTR', 'FIVE_PRIME_UTR', 'INTRON', 'SPANNING'])]\n",
    "loci_gene_mapper = vSTRs.set_index('CHR_START')['Closest'].to_dict()\n",
    "phen_gene['Gene'] = [loci_gene_mapper[i.Start] \n",
    "                     if loci_gene_mapper[i.Start] != 'None' \n",
    "                     else i.Gene \n",
    "                     for i in phen_gene.itertuples()]"
   ]
  },
  {
   "cell_type": "markdown",
   "metadata": {},
   "source": [
    "Control"
   ]
  },
  {
   "cell_type": "code",
   "execution_count": 6,
   "metadata": {
    "collapsed": true
   },
   "outputs": [],
   "source": [
    "frames = []\n",
    "for i in glob.glob('../data/phenotypes/negative_controls/*csv'):\n",
    "    name = i.split('lmeResDF')[1].replace('_', '').replace(' ', '_').split('.')[0]\n",
    "    frame = pd.read_csv(i)\n",
    "    frame['Phenotype'] = [name for i in frame.Where]\n",
    "    frames.append(frame)\n",
    "phen_c = pd.concat(frames)\n",
    "phen_c = phen_c[phen_c['Start'].isin(set(vSTRs.CHR_START))]"
   ]
  },
  {
   "cell_type": "code",
   "execution_count": 7,
   "metadata": {},
   "outputs": [
    {
     "name": "stderr",
     "output_type": "stream",
     "text": [
      "/anaconda/lib/python2.7/site-packages/ipykernel/__main__.py:5: SettingWithCopyWarning: \n",
      "A value is trying to be set on a copy of a slice from a DataFrame.\n",
      "Try using .loc[row_indexer,col_indexer] = value instead\n",
      "\n",
      "See the caveats in the documentation: http://pandas.pydata.org/pandas-docs/stable/indexing.html#indexing-view-versus-copy\n"
     ]
    }
   ],
   "source": [
    "phen_gene_c = phen_c[phen_c['Where'].isin(['PROMOTER', 'CDS', 'THREE_PRIME_UTR', 'FIVE_PRIME_UTR', 'INTRON', 'SPANNING'])]\n",
    "phen_gene_c['Gene'] = [loci_gene_mapper[i.Start] \n",
    "                     if loci_gene_mapper[i.Start] != 'None' \n",
    "                     else i.Gene \n",
    "                     for i in phen_gene_c.itertuples()]"
   ]
  },
  {
   "cell_type": "markdown",
   "metadata": {},
   "source": [
    "## QQ plot"
   ]
  },
  {
   "cell_type": "code",
   "execution_count": 78,
   "metadata": {
    "collapsed": true
   },
   "outputs": [],
   "source": [
    "def plot_QQ(observed, control, p):\n",
    "    o = observed\n",
    "    c = control\n",
    "    real_sort = sort(o.p_value)\n",
    "    control_sort = sort(c.p_value)\n",
    "    obs_x = [-log10(i) for i in sorted(linspace(0, 1, len(real_sort)))]\n",
    "    obs_y = [-log10(i) for i in real_sort]\n",
    "    control_x = [-log10(i) for i in sorted(linspace(0, 1, len(control_sort)))]\n",
    "    control_y = [-log10(i) for i in control_sort]\n",
    "\n",
    "    # Plotting \n",
    "    fig, ax = subplots(figsize = (4,4))\n",
    "\n",
    "    scatter(obs_x, obs_y, color = 'Red', s = 3)\n",
    "    scatter(control_x, control_y, color = 'Black', s = 3, alpha = 0.5)\n",
    "    plot([0,5],[0,5], color=\"gray\")\n",
    "\n",
    "    #legend(loc = 'upper left')\n",
    "\n",
    "    #xlim(0, 5)\n",
    "    #ylim(0, 50)\n",
    "    ax.spines[\"top\"].set_visible(False)\n",
    "    ax.spines[\"right\"].set_visible(False)\n",
    "    ax.set_xticklabels(ax.get_xticks(), size=15)\n",
    "    ax.set_yticklabels(ax.get_yticks(), size=15)\n",
    "    ax.legend(fontsize = 16)\n",
    "    tight_layout()\n",
    "    savefig('../Figures/phen_%s_QQ_plot.pdf' % p, type = 'pdf', transparent = True)\n",
    "    savefig('../Figures/phen_%s_QQ_plot.png'% p, type = 'png', transparent = True)\n",
    "\n",
    "    show()"
   ]
  },
  {
   "cell_type": "markdown",
   "metadata": {},
   "source": [
    "Loading phenotype data"
   ]
  },
  {
   "cell_type": "code",
   "execution_count": 73,
   "metadata": {},
   "outputs": [
    {
     "name": "stderr",
     "output_type": "stream",
     "text": [
      "/anaconda/lib/python2.7/site-packages/ipykernel/__main__.py:9: SettingWithCopyWarning: \n",
      "A value is trying to be set on a copy of a slice from a DataFrame.\n",
      "Try using .loc[row_indexer,col_indexer] = value instead\n",
      "\n",
      "See the caveats in the documentation: http://pandas.pydata.org/pandas-docs/stable/indexing.html#indexing-view-versus-copy\n"
     ]
    }
   ],
   "source": [
    "metadata = pd.read_csv('../data/AccListSraRunTable.csv')\n",
    "mapper = metadata.set_index('Ecotype')['ACCESSION'].to_dict()\n",
    "phenodata = pd.read_csv('../data/MergedPhenotypes.csv', header = None,\n",
    "            names = ['Phenotype', 'Ecotype', 'Name', 'CS_number', 'lon', 'lat', 'Country', 'value', 'phen_id'])\n",
    "phenodata = phenodata[phenodata['Ecotype'].isin(mapper.keys())]\n",
    "phenodata['ACCESSION'] = [mapper[ecotype] for ecotype in phenodata.Ecotype]\n",
    "\n",
    "phenodata['Phenotype'] = [x.replace(' ', '_') for x in phenodata.Phenotype]\n",
    "phen_gene['Phenotype'] = [x.replace(' ', '_') for x in phen_gene.Phenotype]\n",
    "\n",
    "replace_ = []\n",
    "for x in phenodata['Phenotype']:\n",
    "    if x[-1] == '_':\n",
    "        x = x[:-1]\n",
    "    else:\n",
    "        x = x\n",
    "    replace_.append(x)\n",
    "\n",
    "phenodata['Phenotype'] = replace_\n",
    "\n"
   ]
  },
  {
   "cell_type": "markdown",
   "metadata": {},
   "source": [
    "## Figure 5a. Genic QQ plot of selected phenotypes"
   ]
  },
  {
   "cell_type": "code",
   "execution_count": 79,
   "metadata": {},
   "outputs": [
    {
     "name": "stdout",
     "output_type": "stream",
     "text": [
      "Na23_Soil_Seed\n"
     ]
    },
    {
     "name": "stderr",
     "output_type": "stream",
     "text": [
      "/anaconda/lib/python2.7/site-packages/ipykernel/__main__.py:6: RuntimeWarning: divide by zero encountered in log10\n",
      "/anaconda/lib/python2.7/site-packages/ipykernel/__main__.py:8: RuntimeWarning: divide by zero encountered in log10\n"
     ]
    },
    {
     "data": {
      "image/png": "[encoded data removed]",
      "text/plain": [
       "<matplotlib.figure.Figure at 0x17f43f9d0>"
      ]
     },
     "metadata": {},
     "output_type": "display_data"
    },
    {
     "name": "stdout",
     "output_type": "stream",
     "text": [
      "1708    AT2G32010.1\n",
      "4805      AT5G49580\n",
      "661     AT1G66180.1\n",
      "438     AT1G54230.1\n",
      "636     AT1G64670.1\n",
      "2240    AT2G14210.1\n",
      "Name: Gene, dtype: object\n",
      "DTFlocSweden2009\n"
     ]
    },
    {
     "data": {
      "image/png": "[encoded data removed]",
      "text/plain": [
       "<matplotlib.figure.Figure at 0x113164710>"
      ]
     },
     "metadata": {},
     "output_type": "display_data"
    },
    {
     "name": "stdout",
     "output_type": "stream",
     "text": [
      "2233    AT1G18750.1\n",
      "4297      AT3G27920\n",
      "4201    AT2G22490.1\n",
      "2640    AT2G24600.1\n",
      "1831      AT1G79840\n",
      "6854    AT4G35950.1\n",
      "Name: Gene, dtype: object\n",
      "Aphid_number\n"
     ]
    },
    {
     "data": {
      "image/png": "[encoded data removed]",
      "text/plain": [
       "<matplotlib.figure.Figure at 0x17f4938d0>"
      ]
     },
     "metadata": {},
     "output_type": "display_data"
    },
    {
     "name": "stdout",
     "output_type": "stream",
     "text": [
      "5024    AT5G57800.1\n",
      "1293    AT1G18620.1\n",
      "2110    AT2G46990.1\n",
      "2618    AT3G45290.1\n",
      "5153    AT5G63050.1\n",
      "2010    AT2G43040.1\n",
      "Name: Gene, dtype: object\n"
     ]
    }
   ],
   "source": [
    "for p in ['Na23_Soil_Seed', 'DTFlocSweden2009', 'Aphid_number']:\n",
    "    print p\n",
    "    obs = phen_gene[phen_gene['Phenotype']==p]\n",
    "    con = phen_gene_c[phen_gene_c['Phenotype']==p]\n",
    "    plot_QQ(obs, con, p)\n",
    "    print obs.sort_values(by = 'p_value').head(6).Gene"
   ]
  },
  {
   "cell_type": "markdown",
   "metadata": {},
   "source": [
    "## Figure 5b. Top outlier boxplots"
   ]
  },
  {
   "cell_type": "code",
   "execution_count": 86,
   "metadata": {},
   "outputs": [
    {
     "data": {
      "image/png": "[encoded data removed]",
      "text/plain": [
       "<matplotlib.figure.Figure at 0x139cd1090>"
      ]
     },
     "metadata": {},
     "output_type": "display_data"
    }
   ],
   "source": [
    "f, axes = subplots(nrows = 1, ncols = 3, figsize = (17,4), sharey = False)\n",
    "counter = -1\n",
    "n = 0\n",
    "\n",
    "boxprops = dict(linestyle='-', linewidth=3, color='darkorange')\n",
    "flierprops = dict(marker='.', markerfacecolor='black', markersize=5, linestyle='none')\n",
    "medianprops = dict(linestyle='-', linewidth=3, color='black')\n",
    "\n",
    "\n",
    "\n",
    "for pair in [('AT2G32010.1', 'Na23_Soil_Seed'), ('AT1G18750.1', 'DTFlocSweden2009'), ('AT5G57800.1', 'Aphid_number')]:\n",
    "    counter += 1\n",
    "    ax = axes[counter]\n",
    "        \n",
    "    df = phen_gene[phen_gene['Phenotype']==pair[1]]\n",
    "    gene = pair[0]\n",
    "\n",
    "    loci = df[df.Gene == gene].Start.values[0]\n",
    "    \n",
    "    #print df[df.Gene == gene]\n",
    "    f = phenodata[phenodata['Phenotype']==pair[1]][['ACCESSION', 'value']]\n",
    "    r = vSTRs[vSTRs['CHR_START']==loci][['ACCESSION', 'STR_DOSAGE']]\n",
    "    df2 = pd.merge(f, r)[['value', 'STR_DOSAGE']]\n",
    "    phen_values = []\n",
    "    rls = []\n",
    "    for i in set(df2.STR_DOSAGE):\n",
    "        rls.append(i)\n",
    "        phen_values.append(list(df2[df2['STR_DOSAGE']==i].value.values))\n",
    "    \n",
    "    ax.boxplot(phen_values, positions = rls, boxprops = boxprops, flierprops = flierprops, medianprops = medianprops)\n",
    "    setp(ax.xaxis.get_majorticklabels(), rotation=70, size = 20)\n",
    "    setp(ax.yaxis.get_majorticklabels(), rotation=0, size = 20)\n",
    "\n",
    "    ax.spines[\"top\"].set_visible(False)\n",
    "    ax.spines[\"right\"].set_visible(False)\n",
    "    ax.tick_params(axis='x', pad=10)\n",
    "    \n",
    "tight_layout()\n",
    "savefig('../Figures/Top3_pSTRs_by_p.pdf', type = 'pdf', transparent = True)\n",
    "savefig('../Figures/Top3_pSTRs_by_p.png', type = 'png', transparent = True)\n",
    "show()"
   ]
  },
  {
   "cell_type": "markdown",
   "metadata": {},
   "source": [
    "## Supplementary Data 3 - Phenotype test data"
   ]
  },
  {
   "cell_type": "code",
   "execution_count": 104,
   "metadata": {
    "collapsed": true
   },
   "outputs": [],
   "source": [
    "phen.to_csv('../data/phenotype_nlme_results.csv')"
   ]
  }
 ],
 "metadata": {
  "kernelspec": {
   "display_name": "Python [conda root]",
   "language": "python",
   "name": "conda-root-py"
  },
  "language_info": {
   "codemirror_mode": {
    "name": "ipython",
    "version": 2
   },
   "file_extension": ".py",
   "mimetype": "text/x-python",
   "name": "python",
   "nbconvert_exporter": "python",
   "pygments_lexer": "ipython2",
   "version": "2.7.13"
  }
 },
 "nbformat": 4,
 "nbformat_minor": 2
}
